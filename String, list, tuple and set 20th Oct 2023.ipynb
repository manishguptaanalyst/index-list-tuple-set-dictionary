{
 "cells": [
  {
   "cell_type": "code",
   "execution_count": 1,
   "id": "23d1e0ff",
   "metadata": {},
   "outputs": [],
   "source": [
    "a= 'I am working with google'"
   ]
  },
  {
   "cell_type": "code",
   "execution_count": 2,
   "id": "165cd514",
   "metadata": {},
   "outputs": [
    {
     "data": {
      "text/plain": [
       "['I am ', 'orking ', 'ith google']"
      ]
     },
     "execution_count": 2,
     "metadata": {},
     "output_type": "execute_result"
    }
   ],
   "source": [
    "a.split('w')"
   ]
  },
  {
   "cell_type": "code",
   "execution_count": 4,
   "id": "fe411fb7",
   "metadata": {},
   "outputs": [
    {
     "data": {
      "text/plain": [
       "['I am ', 'rking with google']"
      ]
     },
     "execution_count": 4,
     "metadata": {},
     "output_type": "execute_result"
    }
   ],
   "source": [
    "a.split('wo')"
   ]
  },
  {
   "cell_type": "code",
   "execution_count": 5,
   "id": "bd5c1691",
   "metadata": {},
   "outputs": [
    {
     "data": {
      "text/plain": [
       "'I AM WORKING WITH GOOGLE'"
      ]
     },
     "execution_count": 5,
     "metadata": {},
     "output_type": "execute_result"
    }
   ],
   "source": [
    "a.upper()"
   ]
  },
  {
   "cell_type": "code",
   "execution_count": null,
   "id": "307389ec",
   "metadata": {},
   "outputs": [],
   "source": [
    "a='mlrt'"
   ]
  },
  {
   "cell_type": "code",
   "execution_count": 6,
   "id": "3a38f35b",
   "metadata": {},
   "outputs": [
    {
     "data": {
      "text/plain": [
       "'I AM WORKING WITH GOOGLE'"
      ]
     },
     "execution_count": 6,
     "metadata": {},
     "output_type": "execute_result"
    }
   ],
   "source": [
    "a.upper()"
   ]
  },
  {
   "cell_type": "code",
   "execution_count": 7,
   "id": "a881f08a",
   "metadata": {},
   "outputs": [
    {
     "data": {
      "text/plain": [
       "'i AM WORKING WITH GOOGLE'"
      ]
     },
     "execution_count": 7,
     "metadata": {},
     "output_type": "execute_result"
    }
   ],
   "source": [
    "a.swapcase()"
   ]
  },
  {
   "cell_type": "code",
   "execution_count": 8,
   "id": "2a2a8e42",
   "metadata": {},
   "outputs": [
    {
     "data": {
      "text/plain": [
       "'I Am Working With Google'"
      ]
     },
     "execution_count": 8,
     "metadata": {},
     "output_type": "execute_result"
    }
   ],
   "source": [
    "a.title()"
   ]
  },
  {
   "cell_type": "code",
   "execution_count": 9,
   "id": "34a74aa1",
   "metadata": {},
   "outputs": [
    {
     "data": {
      "text/plain": [
       "'I am working with google'"
      ]
     },
     "execution_count": 9,
     "metadata": {},
     "output_type": "execute_result"
    }
   ],
   "source": [
    "a.capitalize()"
   ]
  },
  {
   "cell_type": "code",
   "execution_count": 10,
   "id": "37c70d3e",
   "metadata": {},
   "outputs": [],
   "source": [
    "# capital and swapcase functions are same"
   ]
  },
  {
   "cell_type": "code",
   "execution_count": 11,
   "id": "8f52737c",
   "metadata": {},
   "outputs": [
    {
     "data": {
      "text/plain": [
       "'gmlrtomlrt mlrtomlrtnmlrtlmlrtimlrtnmlrtemlrt mlrttmlrtrmlrtamlrtnmlrtimlrtnmlrtg'"
      ]
     },
     "execution_count": 11,
     "metadata": {},
     "output_type": "execute_result"
    }
   ],
   "source": [
    "b='mlrt'\n",
    "c='go online traning'\n",
    "b.join(c)"
   ]
  },
  {
   "cell_type": "code",
   "execution_count": 14,
   "id": "3de3c999",
   "metadata": {},
   "outputs": [
    {
     "data": {
      "text/plain": [
       "'I     a  m     w  o  r  k  i  n  g     w  i  t  h     g  o  o  g  l  e'"
      ]
     },
     "execution_count": 14,
     "metadata": {},
     "output_type": "execute_result"
    }
   ],
   "source": [
    "\"  \".join(a)"
   ]
  },
  {
   "cell_type": "code",
   "execution_count": 15,
   "id": "5e9e08a5",
   "metadata": {},
   "outputs": [
    {
     "data": {
      "text/plain": [
       "<reversed at 0x292f9381760>"
      ]
     },
     "execution_count": 15,
     "metadata": {},
     "output_type": "execute_result"
    }
   ],
   "source": [
    "reversed(\"mlrt\")"
   ]
  },
  {
   "cell_type": "code",
   "execution_count": 16,
   "id": "d9e5e410",
   "metadata": {},
   "outputs": [
    {
     "name": "stdout",
     "output_type": "stream",
     "text": [
      "t\n",
      "r\n",
      "l\n",
      "m\n"
     ]
    }
   ],
   "source": [
    "for i in reversed(\"mlrt\"):\n",
    "    print(i)\n"
   ]
  },
  {
   "cell_type": "code",
   "execution_count": 17,
   "id": "f34578ff",
   "metadata": {},
   "outputs": [
    {
     "data": {
      "text/plain": [
       "'elgoog htiw gnikrow ma I'"
      ]
     },
     "execution_count": 17,
     "metadata": {},
     "output_type": "execute_result"
    }
   ],
   "source": [
    "a[::-1]"
   ]
  },
  {
   "cell_type": "code",
   "execution_count": 18,
   "id": "e7365e03",
   "metadata": {},
   "outputs": [],
   "source": [
    "g=\" mlrt \""
   ]
  },
  {
   "cell_type": "code",
   "execution_count": 20,
   "id": "0c1a74e7",
   "metadata": {},
   "outputs": [
    {
     "data": {
      "text/plain": [
       "' mlrt'"
      ]
     },
     "execution_count": 20,
     "metadata": {},
     "output_type": "execute_result"
    }
   ],
   "source": [
    "g.rstrip()"
   ]
  },
  {
   "cell_type": "code",
   "execution_count": 21,
   "id": "1573ba4a",
   "metadata": {},
   "outputs": [
    {
     "data": {
      "text/plain": [
       "'mlrt '"
      ]
     },
     "execution_count": 21,
     "metadata": {},
     "output_type": "execute_result"
    }
   ],
   "source": [
    "g.lstrip()"
   ]
  },
  {
   "cell_type": "code",
   "execution_count": 22,
   "id": "3b7e011d",
   "metadata": {},
   "outputs": [],
   "source": [
    "h=' mlrt '"
   ]
  },
  {
   "cell_type": "code",
   "execution_count": 23,
   "id": "9856c91f",
   "metadata": {},
   "outputs": [
    {
     "data": {
      "text/plain": [
       "'mlrt'"
      ]
     },
     "execution_count": 23,
     "metadata": {},
     "output_type": "execute_result"
    }
   ],
   "source": [
    "h.strip()"
   ]
  },
  {
   "cell_type": "code",
   "execution_count": 24,
   "id": "31bb999f",
   "metadata": {},
   "outputs": [
    {
     "data": {
      "text/plain": [
       "' abclrt '"
      ]
     },
     "execution_count": 24,
     "metadata": {},
     "output_type": "execute_result"
    }
   ],
   "source": [
    "h.replace('m','abc')"
   ]
  },
  {
   "cell_type": "code",
   "execution_count": 26,
   "id": "4995ed5a",
   "metadata": {},
   "outputs": [
    {
     "data": {
      "text/plain": [
       "'rama\\\\krishna'"
      ]
     },
     "execution_count": 26,
     "metadata": {},
     "output_type": "execute_result"
    }
   ],
   "source": [
    "\"rama\\krishna\".expandtabs()"
   ]
  },
  {
   "cell_type": "code",
   "execution_count": 27,
   "id": "7b70db1b",
   "metadata": {},
   "outputs": [
    {
     "data": {
      "text/plain": [
       "'manish\\\\gupta'"
      ]
     },
     "execution_count": 27,
     "metadata": {},
     "output_type": "execute_result"
    }
   ],
   "source": [
    "\"manish\\gupta\".expandtabs()"
   ]
  },
  {
   "cell_type": "code",
   "execution_count": 28,
   "id": "fd225b85",
   "metadata": {},
   "outputs": [],
   "source": [
    "m='mlrt'"
   ]
  },
  {
   "cell_type": "code",
   "execution_count": 30,
   "id": "5178ff24",
   "metadata": {},
   "outputs": [
    {
     "data": {
      "text/plain": [
       "'RRRRRRRRRRRRRRRRRRRRRRRmlrtRRRRRRRRRRRRRRRRRRRRRRR'"
      ]
     },
     "execution_count": 30,
     "metadata": {},
     "output_type": "execute_result"
    }
   ],
   "source": [
    "m.center(50,'R')"
   ]
  },
  {
   "cell_type": "code",
   "execution_count": 31,
   "id": "0bf699db",
   "metadata": {},
   "outputs": [
    {
     "ename": "TypeError",
     "evalue": "The fill character must be exactly one character long",
     "output_type": "error",
     "traceback": [
      "\u001b[1;31m---------------------------------------------------------------------------\u001b[0m",
      "\u001b[1;31mTypeError\u001b[0m                                 Traceback (most recent call last)",
      "\u001b[1;32m~\\AppData\\Local\\Temp\\ipykernel_9788\\2270066202.py\u001b[0m in \u001b[0;36m<module>\u001b[1;34m\u001b[0m\n\u001b[1;32m----> 1\u001b[1;33m \u001b[0mm\u001b[0m\u001b[1;33m.\u001b[0m\u001b[0mcenter\u001b[0m\u001b[1;33m(\u001b[0m\u001b[1;36m33\u001b[0m\u001b[1;33m,\u001b[0m\u001b[1;34m'manish'\u001b[0m\u001b[1;33m)\u001b[0m\u001b[1;33m\u001b[0m\u001b[1;33m\u001b[0m\u001b[0m\n\u001b[0m",
      "\u001b[1;31mTypeError\u001b[0m: The fill character must be exactly one character long"
     ]
    }
   ],
   "source": [
    "m.center(33,'manish')"
   ]
  },
  {
   "cell_type": "code",
   "execution_count": 32,
   "id": "ef313d73",
   "metadata": {},
   "outputs": [
    {
     "data": {
      "text/plain": [
       "'   indians are the best'"
      ]
     },
     "execution_count": 32,
     "metadata": {},
     "output_type": "execute_result"
    }
   ],
   "source": [
    "b='   indians are the best'\n",
    "b.strip('are')"
   ]
  },
  {
   "cell_type": "code",
   "execution_count": 33,
   "id": "e722acb7",
   "metadata": {},
   "outputs": [
    {
     "data": {
      "text/plain": [
       "False"
      ]
     },
     "execution_count": 33,
     "metadata": {},
     "output_type": "execute_result"
    }
   ],
   "source": [
    "b.isupper()"
   ]
  },
  {
   "cell_type": "code",
   "execution_count": 34,
   "id": "1014e2b8",
   "metadata": {},
   "outputs": [
    {
     "data": {
      "text/plain": [
       "True"
      ]
     },
     "execution_count": 34,
     "metadata": {},
     "output_type": "execute_result"
    }
   ],
   "source": [
    "b.islower()"
   ]
  },
  {
   "cell_type": "code",
   "execution_count": 35,
   "id": "183f482a",
   "metadata": {},
   "outputs": [
    {
     "data": {
      "text/plain": [
       "False"
      ]
     },
     "execution_count": 35,
     "metadata": {},
     "output_type": "execute_result"
    }
   ],
   "source": [
    "b.isspace()"
   ]
  },
  {
   "cell_type": "code",
   "execution_count": 36,
   "id": "3104f380",
   "metadata": {},
   "outputs": [],
   "source": [
    "c=\" \""
   ]
  },
  {
   "cell_type": "code",
   "execution_count": 37,
   "id": "8562b3fa",
   "metadata": {},
   "outputs": [
    {
     "data": {
      "text/plain": [
       "True"
      ]
     },
     "execution_count": 37,
     "metadata": {},
     "output_type": "execute_result"
    }
   ],
   "source": [
    "c.isspace()"
   ]
  },
  {
   "cell_type": "code",
   "execution_count": 38,
   "id": "9bdf4947",
   "metadata": {},
   "outputs": [],
   "source": [
    "d=\"mlrt1234\""
   ]
  },
  {
   "cell_type": "code",
   "execution_count": 39,
   "id": "3eac7562",
   "metadata": {},
   "outputs": [
    {
     "data": {
      "text/plain": [
       "False"
      ]
     },
     "execution_count": 39,
     "metadata": {},
     "output_type": "execute_result"
    }
   ],
   "source": [
    "d.isdigit()"
   ]
  },
  {
   "cell_type": "code",
   "execution_count": 46,
   "id": "3f945443",
   "metadata": {},
   "outputs": [],
   "source": [
    "e=\"12345\""
   ]
  },
  {
   "cell_type": "code",
   "execution_count": 47,
   "id": "2fb2a02b",
   "metadata": {},
   "outputs": [
    {
     "data": {
      "text/plain": [
       "True"
      ]
     },
     "execution_count": 47,
     "metadata": {},
     "output_type": "execute_result"
    }
   ],
   "source": [
    "e.isdigit()"
   ]
  },
  {
   "cell_type": "code",
   "execution_count": 49,
   "id": "ae56a5be",
   "metadata": {},
   "outputs": [
    {
     "data": {
      "text/plain": [
       "True"
      ]
     },
     "execution_count": 49,
     "metadata": {},
     "output_type": "execute_result"
    }
   ],
   "source": [
    "e.isdigit()"
   ]
  },
  {
   "cell_type": "code",
   "execution_count": 50,
   "id": "28e682f0",
   "metadata": {},
   "outputs": [],
   "source": [
    "f=\"python\""
   ]
  },
  {
   "cell_type": "code",
   "execution_count": 53,
   "id": "83c9fa16",
   "metadata": {},
   "outputs": [
    {
     "data": {
      "text/plain": [
       "True"
      ]
     },
     "execution_count": 53,
     "metadata": {},
     "output_type": "execute_result"
    }
   ],
   "source": [
    "f.endswith('n')"
   ]
  },
  {
   "cell_type": "code",
   "execution_count": 54,
   "id": "3c8897ae",
   "metadata": {},
   "outputs": [
    {
     "data": {
      "text/plain": [
       "True"
      ]
     },
     "execution_count": 54,
     "metadata": {},
     "output_type": "execute_result"
    }
   ],
   "source": [
    "f.startswith('p')"
   ]
  },
  {
   "cell_type": "code",
   "execution_count": 55,
   "id": "d1ff6482",
   "metadata": {},
   "outputs": [],
   "source": [
    "h='Python'"
   ]
  },
  {
   "cell_type": "code",
   "execution_count": 56,
   "id": "de9b74f3",
   "metadata": {},
   "outputs": [
    {
     "data": {
      "text/plain": [
       "b'mlrt'"
      ]
     },
     "execution_count": 56,
     "metadata": {},
     "output_type": "execute_result"
    }
   ],
   "source": [
    "m.encode()"
   ]
  },
  {
   "cell_type": "code",
   "execution_count": 57,
   "id": "3059f9b5",
   "metadata": {},
   "outputs": [
    {
     "data": {
      "text/plain": [
       "b'Python'"
      ]
     },
     "execution_count": 57,
     "metadata": {},
     "output_type": "execute_result"
    }
   ],
   "source": [
    "h.encode()"
   ]
  },
  {
   "cell_type": "markdown",
   "id": "617cf27c",
   "metadata": {},
   "source": [
    "# List"
   ]
  },
  {
   "cell_type": "code",
   "execution_count": 58,
   "id": "27ec9ff9",
   "metadata": {},
   "outputs": [],
   "source": [
    "s=\"ddddddddddddddddddjjjjjjjjjjjjjff\""
   ]
  },
  {
   "cell_type": "code",
   "execution_count": null,
   "id": "e8b7e08d",
   "metadata": {},
   "outputs": [],
   "source": [
    "# List is a collection of multiple homegenios of haterogenious data sets."
   ]
  },
  {
   "cell_type": "code",
   "execution_count": 69,
   "id": "1f0ee7f1",
   "metadata": {},
   "outputs": [],
   "source": [
    "l=[\"mlrt\",\"ravi\",345,4+6J,True,123.45]"
   ]
  },
  {
   "cell_type": "code",
   "execution_count": 62,
   "id": "cf75502f",
   "metadata": {},
   "outputs": [
    {
     "data": {
      "text/plain": [
       "['mlrt', 'ravi', 345, (4+6j), True, 123.45]"
      ]
     },
     "execution_count": 62,
     "metadata": {},
     "output_type": "execute_result"
    }
   ],
   "source": [
    "l"
   ]
  },
  {
   "cell_type": "code",
   "execution_count": 67,
   "id": "5c3007c1",
   "metadata": {},
   "outputs": [],
   "source": [
    "m=[12,13,14,45,67,78]"
   ]
  },
  {
   "cell_type": "code",
   "execution_count": 64,
   "id": "73d74657",
   "metadata": {},
   "outputs": [
    {
     "data": {
      "text/plain": [
       "[12, 13, 14, 45, 67, 78]"
      ]
     },
     "execution_count": 64,
     "metadata": {},
     "output_type": "execute_result"
    }
   ],
   "source": []
  },
  {
   "cell_type": "code",
   "execution_count": 65,
   "id": "be59860b",
   "metadata": {},
   "outputs": [
    {
     "data": {
      "text/plain": [
       "list"
      ]
     },
     "execution_count": 65,
     "metadata": {},
     "output_type": "execute_result"
    }
   ],
   "source": [
    "type(l)"
   ]
  },
  {
   "cell_type": "code",
   "execution_count": 70,
   "id": "d3a90da2",
   "metadata": {},
   "outputs": [
    {
     "data": {
      "text/plain": [
       "'mlrt'"
      ]
     },
     "execution_count": 70,
     "metadata": {},
     "output_type": "execute_result"
    }
   ],
   "source": [
    "l[0]"
   ]
  },
  {
   "cell_type": "code",
   "execution_count": 71,
   "id": "5ed0faf9",
   "metadata": {},
   "outputs": [
    {
     "data": {
      "text/plain": [
       "123.45"
      ]
     },
     "execution_count": 71,
     "metadata": {},
     "output_type": "execute_result"
    }
   ],
   "source": [
    "l[-1]"
   ]
  },
  {
   "cell_type": "code",
   "execution_count": 72,
   "id": "c5c794c5",
   "metadata": {},
   "outputs": [
    {
     "data": {
      "text/plain": [
       "'ravi'"
      ]
     },
     "execution_count": 72,
     "metadata": {},
     "output_type": "execute_result"
    }
   ],
   "source": [
    "l[-5]"
   ]
  },
  {
   "cell_type": "code",
   "execution_count": 73,
   "id": "939a2eae",
   "metadata": {},
   "outputs": [
    {
     "data": {
      "text/plain": [
       "['mlrt', 'ravi', 345, (4+6j)]"
      ]
     },
     "execution_count": 73,
     "metadata": {},
     "output_type": "execute_result"
    }
   ],
   "source": [
    "l[0:4]"
   ]
  },
  {
   "cell_type": "code",
   "execution_count": 74,
   "id": "7d8eca02",
   "metadata": {},
   "outputs": [
    {
     "data": {
      "text/plain": [
       "[123.45, True, (4+6j), 345, 'ravi', 'mlrt']"
      ]
     },
     "execution_count": 74,
     "metadata": {},
     "output_type": "execute_result"
    }
   ],
   "source": [
    "l[::-1]"
   ]
  },
  {
   "cell_type": "code",
   "execution_count": 75,
   "id": "189f9166",
   "metadata": {},
   "outputs": [
    {
     "data": {
      "text/plain": [
       "[123.45]"
      ]
     },
     "execution_count": 75,
     "metadata": {},
     "output_type": "execute_result"
    }
   ],
   "source": [
    "l[-1:6]"
   ]
  },
  {
   "cell_type": "code",
   "execution_count": 76,
   "id": "8bde0ca3",
   "metadata": {},
   "outputs": [
    {
     "data": {
      "text/plain": [
       "[]"
      ]
     },
     "execution_count": 76,
     "metadata": {},
     "output_type": "execute_result"
    }
   ],
   "source": [
    "l[-1:-4]"
   ]
  },
  {
   "cell_type": "code",
   "execution_count": 77,
   "id": "ebd30d60",
   "metadata": {},
   "outputs": [
    {
     "data": {
      "text/plain": [
       "[123.45]"
      ]
     },
     "execution_count": 77,
     "metadata": {},
     "output_type": "execute_result"
    }
   ],
   "source": [
    "l[-1:4:-1]"
   ]
  },
  {
   "cell_type": "code",
   "execution_count": 78,
   "id": "4757f4ad",
   "metadata": {},
   "outputs": [
    {
     "data": {
      "text/plain": [
       "['mlrt', 'ravi', 345, (4+6j), True, 123.45]"
      ]
     },
     "execution_count": 78,
     "metadata": {},
     "output_type": "execute_result"
    }
   ],
   "source": [
    "l"
   ]
  },
  {
   "cell_type": "code",
   "execution_count": 85,
   "id": "b9809942",
   "metadata": {},
   "outputs": [
    {
     "data": {
      "text/plain": [
       "'ravi'"
      ]
     },
     "execution_count": 85,
     "metadata": {},
     "output_type": "execute_result"
    }
   ],
   "source": [
    "l[1]"
   ]
  },
  {
   "cell_type": "code",
   "execution_count": 86,
   "id": "84af85ee",
   "metadata": {},
   "outputs": [
    {
     "data": {
      "text/plain": [
       "'mlrt'"
      ]
     },
     "execution_count": 86,
     "metadata": {},
     "output_type": "execute_result"
    }
   ],
   "source": [
    "l[0]"
   ]
  },
  {
   "cell_type": "code",
   "execution_count": 87,
   "id": "6bafb64d",
   "metadata": {},
   "outputs": [
    {
     "data": {
      "text/plain": [
       "'r'"
      ]
     },
     "execution_count": 87,
     "metadata": {},
     "output_type": "execute_result"
    }
   ],
   "source": [
    "l[1][0]"
   ]
  },
  {
   "cell_type": "code",
   "execution_count": 90,
   "id": "e90fb3c9",
   "metadata": {},
   "outputs": [
    {
     "data": {
      "text/plain": [
       "True"
      ]
     },
     "execution_count": 90,
     "metadata": {},
     "output_type": "execute_result"
    }
   ],
   "source": [
    "l[4]"
   ]
  },
  {
   "cell_type": "code",
   "execution_count": 91,
   "id": "110400b7",
   "metadata": {},
   "outputs": [
    {
     "data": {
      "text/plain": [
       "['mlrt', 'ravi', 345, (4+6j), True, 123.45]"
      ]
     },
     "execution_count": 91,
     "metadata": {},
     "output_type": "execute_result"
    }
   ],
   "source": [
    "l"
   ]
  },
  {
   "cell_type": "code",
   "execution_count": 92,
   "id": "5e16d912",
   "metadata": {},
   "outputs": [
    {
     "data": {
      "text/plain": [
       "'i'"
      ]
     },
     "execution_count": 92,
     "metadata": {},
     "output_type": "execute_result"
    }
   ],
   "source": [
    "l[1][3]"
   ]
  },
  {
   "cell_type": "code",
   "execution_count": 93,
   "id": "405ed5a2",
   "metadata": {},
   "outputs": [
    {
     "data": {
      "text/plain": [
       "['mlrt', 'ravi', 345, (4+6j), True, 123.45]"
      ]
     },
     "execution_count": 93,
     "metadata": {},
     "output_type": "execute_result"
    }
   ],
   "source": [
    "l"
   ]
  },
  {
   "cell_type": "code",
   "execution_count": 94,
   "id": "34ea9776",
   "metadata": {},
   "outputs": [],
   "source": [
    "m=[234,45.67,True,45+9j,'Python']"
   ]
  },
  {
   "cell_type": "code",
   "execution_count": 95,
   "id": "f419d00e",
   "metadata": {},
   "outputs": [
    {
     "data": {
      "text/plain": [
       "[234, 45.67, True, (45+9j), 'Python']"
      ]
     },
     "execution_count": 95,
     "metadata": {},
     "output_type": "execute_result"
    }
   ],
   "source": [
    "m"
   ]
  },
  {
   "cell_type": "code",
   "execution_count": 96,
   "id": "9b17e58c",
   "metadata": {},
   "outputs": [
    {
     "data": {
      "text/plain": [
       "(45+9j)"
      ]
     },
     "execution_count": 96,
     "metadata": {},
     "output_type": "execute_result"
    }
   ],
   "source": [
    "m[3]"
   ]
  },
  {
   "cell_type": "code",
   "execution_count": 97,
   "id": "a4081b51",
   "metadata": {},
   "outputs": [
    {
     "data": {
      "text/plain": [
       "45.0"
      ]
     },
     "execution_count": 97,
     "metadata": {},
     "output_type": "execute_result"
    }
   ],
   "source": [
    "m[3].real"
   ]
  },
  {
   "cell_type": "code",
   "execution_count": 98,
   "id": "25277669",
   "metadata": {},
   "outputs": [
    {
     "data": {
      "text/plain": [
       "9.0"
      ]
     },
     "execution_count": 98,
     "metadata": {},
     "output_type": "execute_result"
    }
   ],
   "source": [
    "m[3].imag"
   ]
  },
  {
   "cell_type": "code",
   "execution_count": 99,
   "id": "6db6bed4",
   "metadata": {},
   "outputs": [],
   "source": [
    "n1 = [\"mlrt\",\"ravi\",432945678]\n",
    "n2 = [\"abc\",\"xyz\",327836542986]"
   ]
  },
  {
   "cell_type": "code",
   "execution_count": 100,
   "id": "0e511c85",
   "metadata": {},
   "outputs": [
    {
     "data": {
      "text/plain": [
       "['mlrt', 'ravi', 432945678, 'abc', 'xyz', 327836542986]"
      ]
     },
     "execution_count": 100,
     "metadata": {},
     "output_type": "execute_result"
    }
   ],
   "source": [
    "n1+n2"
   ]
  },
  {
   "cell_type": "code",
   "execution_count": 101,
   "id": "751566f2",
   "metadata": {},
   "outputs": [
    {
     "ename": "TypeError",
     "evalue": "can only concatenate list (not \"str\") to list",
     "output_type": "error",
     "traceback": [
      "\u001b[1;31m---------------------------------------------------------------------------\u001b[0m",
      "\u001b[1;31mTypeError\u001b[0m                                 Traceback (most recent call last)",
      "\u001b[1;32m~\\AppData\\Local\\Temp\\ipykernel_9788\\3583628122.py\u001b[0m in \u001b[0;36m<module>\u001b[1;34m\u001b[0m\n\u001b[1;32m----> 1\u001b[1;33m \u001b[0mn1\u001b[0m\u001b[1;33m+\u001b[0m\u001b[1;34m'python'\u001b[0m\u001b[1;33m\u001b[0m\u001b[1;33m\u001b[0m\u001b[0m\n\u001b[0m",
      "\u001b[1;31mTypeError\u001b[0m: can only concatenate list (not \"str\") to list"
     ]
    }
   ],
   "source": [
    "n1+'python'"
   ]
  },
  {
   "cell_type": "code",
   "execution_count": 102,
   "id": "1c89f064",
   "metadata": {},
   "outputs": [
    {
     "data": {
      "text/plain": [
       "['mlrt', 'ravi', 432945678, 'python']"
      ]
     },
     "execution_count": 102,
     "metadata": {},
     "output_type": "execute_result"
    }
   ],
   "source": [
    "n1+[\"python\"]"
   ]
  },
  {
   "cell_type": "code",
   "execution_count": 105,
   "id": "b71a2bd7",
   "metadata": {},
   "outputs": [
    {
     "data": {
      "text/plain": [
       "['mlrt',\n",
       " 'ravi',\n",
       " 432945678,\n",
       " 'mlrt',\n",
       " 'ravi',\n",
       " 432945678,\n",
       " 'mlrt',\n",
       " 'ravi',\n",
       " 432945678]"
      ]
     },
     "execution_count": 105,
     "metadata": {},
     "output_type": "execute_result"
    }
   ],
   "source": [
    "n1*3\n"
   ]
  },
  {
   "cell_type": "code",
   "execution_count": 107,
   "id": "18ace77e",
   "metadata": {},
   "outputs": [
    {
     "data": {
      "text/plain": [
       "['mlrt',\n",
       " 'ravi',\n",
       " 432945678,\n",
       " 'mlrt',\n",
       " 'ravi',\n",
       " 432945678,\n",
       " 'mlrt',\n",
       " 'ravi',\n",
       " 432945678,\n",
       " 'mlrt',\n",
       " 'ravi',\n",
       " 432945678]"
      ]
     },
     "execution_count": 107,
     "metadata": {},
     "output_type": "execute_result"
    }
   ],
   "source": [
    "n1*4"
   ]
  },
  {
   "cell_type": "code",
   "execution_count": 109,
   "id": "37012731",
   "metadata": {},
   "outputs": [
    {
     "data": {
      "text/plain": [
       "['mlrt', 'ravi', 432945678]"
      ]
     },
     "execution_count": 109,
     "metadata": {},
     "output_type": "execute_result"
    }
   ],
   "source": [
    "n1"
   ]
  },
  {
   "cell_type": "code",
   "execution_count": 110,
   "id": "3487d00c",
   "metadata": {},
   "outputs": [
    {
     "data": {
      "text/plain": [
       "'l'"
      ]
     },
     "execution_count": 110,
     "metadata": {},
     "output_type": "execute_result"
    }
   ],
   "source": [
    "n1[0][1]"
   ]
  },
  {
   "cell_type": "code",
   "execution_count": 111,
   "id": "d5e517b4",
   "metadata": {},
   "outputs": [
    {
     "data": {
      "text/plain": [
       "['mlrt', 'ravi', 432945678]"
      ]
     },
     "execution_count": 111,
     "metadata": {},
     "output_type": "execute_result"
    }
   ],
   "source": [
    "n1"
   ]
  },
  {
   "cell_type": "code",
   "execution_count": 113,
   "id": "9cea203b",
   "metadata": {},
   "outputs": [
    {
     "data": {
      "text/plain": [
       "['Python', 'mlrt', 'ravi', 432945678, 'Python']"
      ]
     },
     "execution_count": 113,
     "metadata": {},
     "output_type": "execute_result"
    }
   ],
   "source": [
    "['Python']+n1+['Python']"
   ]
  },
  {
   "cell_type": "code",
   "execution_count": 114,
   "id": "940dda01",
   "metadata": {},
   "outputs": [],
   "source": [
    "n1[0]='Java'"
   ]
  },
  {
   "cell_type": "code",
   "execution_count": 115,
   "id": "bcb76e32",
   "metadata": {},
   "outputs": [
    {
     "data": {
      "text/plain": [
       "['Java', 'ravi', 432945678]"
      ]
     },
     "execution_count": 115,
     "metadata": {},
     "output_type": "execute_result"
    }
   ],
   "source": [
    "n1"
   ]
  },
  {
   "cell_type": "code",
   "execution_count": 116,
   "id": "02c088c8",
   "metadata": {},
   "outputs": [
    {
     "data": {
      "text/plain": [
       "['Java', 'ravi', 432945678]"
      ]
     },
     "execution_count": 116,
     "metadata": {},
     "output_type": "execute_result"
    }
   ],
   "source": [
    "n1"
   ]
  },
  {
   "cell_type": "code",
   "execution_count": 119,
   "id": "9044b0b7",
   "metadata": {},
   "outputs": [
    {
     "data": {
      "text/plain": [
       "[1234567, 'Java', 'ravi', 432945678]"
      ]
     },
     "execution_count": 119,
     "metadata": {},
     "output_type": "execute_result"
    }
   ],
   "source": [
    "[1234567]+n1"
   ]
  },
  {
   "cell_type": "code",
   "execution_count": 120,
   "id": "e4ed237e",
   "metadata": {},
   "outputs": [
    {
     "data": {
      "text/plain": [
       "['Java', 'ravi', 432945678]"
      ]
     },
     "execution_count": 120,
     "metadata": {},
     "output_type": "execute_result"
    }
   ],
   "source": [
    "n1"
   ]
  },
  {
   "cell_type": "code",
   "execution_count": 121,
   "id": "197d3707",
   "metadata": {},
   "outputs": [],
   "source": [
    "n1[0]=12938938392829"
   ]
  },
  {
   "cell_type": "code",
   "execution_count": 122,
   "id": "7658fe13",
   "metadata": {},
   "outputs": [
    {
     "data": {
      "text/plain": [
       "[12938938392829, 'ravi', 432945678]"
      ]
     },
     "execution_count": 122,
     "metadata": {},
     "output_type": "execute_result"
    }
   ],
   "source": [
    "n1"
   ]
  },
  {
   "cell_type": "code",
   "execution_count": 125,
   "id": "947fffbe",
   "metadata": {},
   "outputs": [
    {
     "data": {
      "text/plain": [
       "[12938938392829, 'ravi', 432945678, 'python']"
      ]
     },
     "execution_count": 125,
     "metadata": {},
     "output_type": "execute_result"
    }
   ],
   "source": [
    "n1+['python']"
   ]
  },
  {
   "cell_type": "code",
   "execution_count": 126,
   "id": "db5da199",
   "metadata": {},
   "outputs": [
    {
     "data": {
      "text/plain": [
       "[12938938392829, 'ravi', 432945678]"
      ]
     },
     "execution_count": 126,
     "metadata": {},
     "output_type": "execute_result"
    }
   ],
   "source": [
    "n1"
   ]
  },
  {
   "cell_type": "code",
   "execution_count": 127,
   "id": "5243af3e",
   "metadata": {},
   "outputs": [],
   "source": [
    "o = \"python\""
   ]
  },
  {
   "cell_type": "code",
   "execution_count": 128,
   "id": "cb1effa7",
   "metadata": {},
   "outputs": [
    {
     "ename": "TypeError",
     "evalue": "'str' object does not support item assignment",
     "output_type": "error",
     "traceback": [
      "\u001b[1;31m---------------------------------------------------------------------------\u001b[0m",
      "\u001b[1;31mTypeError\u001b[0m                                 Traceback (most recent call last)",
      "\u001b[1;32m~\\AppData\\Local\\Temp\\ipykernel_9788\\223471855.py\u001b[0m in \u001b[0;36m<module>\u001b[1;34m\u001b[0m\n\u001b[1;32m----> 1\u001b[1;33m \u001b[0mo\u001b[0m\u001b[1;33m[\u001b[0m\u001b[1;36m0\u001b[0m\u001b[1;33m]\u001b[0m\u001b[1;33m=\u001b[0m\u001b[1;34m'd'\u001b[0m\u001b[1;33m\u001b[0m\u001b[1;33m\u001b[0m\u001b[0m\n\u001b[0m",
      "\u001b[1;31mTypeError\u001b[0m: 'str' object does not support item assignment"
     ]
    }
   ],
   "source": [
    "o[0]='d'"
   ]
  },
  {
   "cell_type": "code",
   "execution_count": 129,
   "id": "2ab88706",
   "metadata": {},
   "outputs": [],
   "source": [
    "i='true'"
   ]
  },
  {
   "cell_type": "code",
   "execution_count": 130,
   "id": "272be42d",
   "metadata": {},
   "outputs": [
    {
     "ename": "TypeError",
     "evalue": "'str' object does not support item assignment",
     "output_type": "error",
     "traceback": [
      "\u001b[1;31m---------------------------------------------------------------------------\u001b[0m",
      "\u001b[1;31mTypeError\u001b[0m                                 Traceback (most recent call last)",
      "\u001b[1;32m~\\AppData\\Local\\Temp\\ipykernel_9788\\2899245131.py\u001b[0m in \u001b[0;36m<module>\u001b[1;34m\u001b[0m\n\u001b[1;32m----> 1\u001b[1;33m \u001b[0mi\u001b[0m\u001b[1;33m[\u001b[0m\u001b[1;36m0\u001b[0m\u001b[1;33m]\u001b[0m\u001b[1;33m=\u001b[0m\u001b[1;34m'a'\u001b[0m\u001b[1;33m\u001b[0m\u001b[1;33m\u001b[0m\u001b[0m\n\u001b[0m",
      "\u001b[1;31mTypeError\u001b[0m: 'str' object does not support item assignment"
     ]
    }
   ],
   "source": [
    "i[0]='a'"
   ]
  },
  {
   "cell_type": "code",
   "execution_count": 131,
   "id": "1f21b6ae",
   "metadata": {},
   "outputs": [
    {
     "data": {
      "text/plain": [
       "'arue'"
      ]
     },
     "execution_count": 131,
     "metadata": {},
     "output_type": "execute_result"
    }
   ],
   "source": [
    "i.replace('t','a')"
   ]
  },
  {
   "cell_type": "code",
   "execution_count": 132,
   "id": "2855d8c6",
   "metadata": {},
   "outputs": [
    {
     "data": {
      "text/plain": [
       "[12938938392829, 'ravi', 432945678]"
      ]
     },
     "execution_count": 132,
     "metadata": {},
     "output_type": "execute_result"
    }
   ],
   "source": [
    "n1"
   ]
  },
  {
   "cell_type": "markdown",
   "id": "0bb4a120",
   "metadata": {},
   "source": [
    "## 'ravi' in n1"
   ]
  },
  {
   "cell_type": "code",
   "execution_count": 134,
   "id": "aedcad0c",
   "metadata": {},
   "outputs": [
    {
     "data": {
      "text/plain": [
       "False"
      ]
     },
     "execution_count": 134,
     "metadata": {},
     "output_type": "execute_result"
    }
   ],
   "source": [
    "'9282' in n1"
   ]
  },
  {
   "cell_type": "code",
   "execution_count": 135,
   "id": "d175d315",
   "metadata": {},
   "outputs": [
    {
     "data": {
      "text/plain": [
       "['abc', 'xyz', 327836542986]"
      ]
     },
     "execution_count": 135,
     "metadata": {},
     "output_type": "execute_result"
    }
   ],
   "source": [
    "n2"
   ]
  },
  {
   "cell_type": "code",
   "execution_count": 136,
   "id": "7cbb8476",
   "metadata": {},
   "outputs": [],
   "source": [
    "n2.append('sql')"
   ]
  },
  {
   "cell_type": "code",
   "execution_count": 137,
   "id": "bfe8cffe",
   "metadata": {},
   "outputs": [
    {
     "data": {
      "text/plain": [
       "['abc', 'xyz', 327836542986, 'sql']"
      ]
     },
     "execution_count": 137,
     "metadata": {},
     "output_type": "execute_result"
    }
   ],
   "source": [
    "n2"
   ]
  },
  {
   "cell_type": "code",
   "execution_count": 139,
   "id": "b157ee2d",
   "metadata": {},
   "outputs": [],
   "source": [
    "n1.append('python')"
   ]
  },
  {
   "cell_type": "code",
   "execution_count": 140,
   "id": "99881eb2",
   "metadata": {},
   "outputs": [
    {
     "data": {
      "text/plain": [
       "[12938938392829, 'ravi', 432945678, 'python']"
      ]
     },
     "execution_count": 140,
     "metadata": {},
     "output_type": "execute_result"
    }
   ],
   "source": [
    "n1"
   ]
  },
  {
   "cell_type": "code",
   "execution_count": 141,
   "id": "42b18ca8",
   "metadata": {},
   "outputs": [],
   "source": [
    "n2.append('machine learning')"
   ]
  },
  {
   "cell_type": "code",
   "execution_count": 145,
   "id": "ca08052a",
   "metadata": {},
   "outputs": [
    {
     "data": {
      "text/plain": [
       "['abc', 'xyz', 327836542986, 'sql']"
      ]
     },
     "execution_count": 145,
     "metadata": {},
     "output_type": "execute_result"
    }
   ],
   "source": [
    "n2"
   ]
  },
  {
   "cell_type": "code",
   "execution_count": 143,
   "id": "2e4b774e",
   "metadata": {},
   "outputs": [
    {
     "data": {
      "text/plain": [
       "<function list.pop(index=-1, /)>"
      ]
     },
     "execution_count": 143,
     "metadata": {},
     "output_type": "execute_result"
    }
   ],
   "source": [
    "n2.pop"
   ]
  },
  {
   "cell_type": "code",
   "execution_count": 144,
   "id": "4985c5d5",
   "metadata": {},
   "outputs": [
    {
     "data": {
      "text/plain": [
       "'machine learning'"
      ]
     },
     "execution_count": 144,
     "metadata": {},
     "output_type": "execute_result"
    }
   ],
   "source": [
    "n2.pop()"
   ]
  },
  {
   "cell_type": "code",
   "execution_count": 146,
   "id": "a1ead7bf",
   "metadata": {},
   "outputs": [
    {
     "data": {
      "text/plain": [
       "['abc', 'xyz', 327836542986, 'sql']"
      ]
     },
     "execution_count": 146,
     "metadata": {},
     "output_type": "execute_result"
    }
   ],
   "source": [
    "n2"
   ]
  },
  {
   "cell_type": "code",
   "execution_count": 148,
   "id": "e5615be9",
   "metadata": {},
   "outputs": [],
   "source": [
    "n2.insert(1,'R Language')"
   ]
  },
  {
   "cell_type": "code",
   "execution_count": 149,
   "id": "7d5dc84d",
   "metadata": {},
   "outputs": [
    {
     "data": {
      "text/plain": [
       "['abc', 'R Language', 'xyz', 327836542986, 'sql']"
      ]
     },
     "execution_count": 149,
     "metadata": {},
     "output_type": "execute_result"
    }
   ],
   "source": [
    "n2"
   ]
  },
  {
   "cell_type": "code",
   "execution_count": 150,
   "id": "903537e8",
   "metadata": {},
   "outputs": [],
   "source": [
    "n2.insert(3,'Machine Learning')"
   ]
  },
  {
   "cell_type": "code",
   "execution_count": 151,
   "id": "0ccdbb14",
   "metadata": {},
   "outputs": [
    {
     "data": {
      "text/plain": [
       "['abc', 'R Language', 'xyz', 'Machine Learning', 327836542986, 'sql']"
      ]
     },
     "execution_count": 151,
     "metadata": {},
     "output_type": "execute_result"
    }
   ],
   "source": [
    "n2"
   ]
  },
  {
   "cell_type": "code",
   "execution_count": 153,
   "id": "46a19367",
   "metadata": {},
   "outputs": [],
   "source": [
    "n2.insert(2,'Deep Learning')"
   ]
  },
  {
   "cell_type": "code",
   "execution_count": 154,
   "id": "a67b6b11",
   "metadata": {},
   "outputs": [
    {
     "data": {
      "text/plain": [
       "['abc',\n",
       " 'R Language',\n",
       " 'Deep Learning',\n",
       " 'xyz',\n",
       " 'Machine Learning',\n",
       " 327836542986,\n",
       " 'sql']"
      ]
     },
     "execution_count": 154,
     "metadata": {},
     "output_type": "execute_result"
    }
   ],
   "source": [
    "n2"
   ]
  },
  {
   "cell_type": "code",
   "execution_count": 155,
   "id": "88ea7609",
   "metadata": {},
   "outputs": [],
   "source": [
    "n2.insert(1,'1928374562728')"
   ]
  },
  {
   "cell_type": "code",
   "execution_count": 156,
   "id": "692e368b",
   "metadata": {},
   "outputs": [
    {
     "data": {
      "text/plain": [
       "['abc',\n",
       " '1928374562728',\n",
       " 'R Language',\n",
       " 'Deep Learning',\n",
       " 'xyz',\n",
       " 'Machine Learning',\n",
       " 327836542986,\n",
       " 'sql']"
      ]
     },
     "execution_count": 156,
     "metadata": {},
     "output_type": "execute_result"
    }
   ],
   "source": [
    "n2"
   ]
  },
  {
   "cell_type": "code",
   "execution_count": 157,
   "id": "b851f517",
   "metadata": {},
   "outputs": [
    {
     "data": {
      "text/plain": [
       "['sql',\n",
       " 327836542986,\n",
       " 'Machine Learning',\n",
       " 'xyz',\n",
       " 'Deep Learning',\n",
       " 'R Language',\n",
       " '1928374562728',\n",
       " 'abc']"
      ]
     },
     "execution_count": 157,
     "metadata": {},
     "output_type": "execute_result"
    }
   ],
   "source": [
    "n2[::-1]"
   ]
  },
  {
   "cell_type": "code",
   "execution_count": 159,
   "id": "d39afa50",
   "metadata": {},
   "outputs": [],
   "source": [
    "n2.reverse()"
   ]
  },
  {
   "cell_type": "code",
   "execution_count": 160,
   "id": "e8ea2ad7",
   "metadata": {},
   "outputs": [
    {
     "data": {
      "text/plain": [
       "['sql',\n",
       " 327836542986,\n",
       " 'Machine Learning',\n",
       " 'xyz',\n",
       " 'Deep Learning',\n",
       " 'R Language',\n",
       " '1928374562728',\n",
       " 'abc']"
      ]
     },
     "execution_count": 160,
     "metadata": {},
     "output_type": "execute_result"
    }
   ],
   "source": [
    "n2"
   ]
  },
  {
   "cell_type": "code",
   "execution_count": 161,
   "id": "dd683f55",
   "metadata": {},
   "outputs": [
    {
     "data": {
      "text/plain": [
       "['sql',\n",
       " 327836542986,\n",
       " 'Machine Learning',\n",
       " 'xyz',\n",
       " 'Deep Learning',\n",
       " 'R Language',\n",
       " '1928374562728',\n",
       " 'abc']"
      ]
     },
     "execution_count": 161,
     "metadata": {},
     "output_type": "execute_result"
    }
   ],
   "source": [
    "n2"
   ]
  },
  {
   "cell_type": "code",
   "execution_count": 163,
   "id": "b1b4c636",
   "metadata": {},
   "outputs": [
    {
     "data": {
      "text/plain": [
       "'z'"
      ]
     },
     "execution_count": 163,
     "metadata": {},
     "output_type": "execute_result"
    }
   ],
   "source": [
    "n2[3][2]"
   ]
  },
  {
   "cell_type": "code",
   "execution_count": 164,
   "id": "c1b17c5c",
   "metadata": {},
   "outputs": [
    {
     "data": {
      "text/plain": [
       "1"
      ]
     },
     "execution_count": 164,
     "metadata": {},
     "output_type": "execute_result"
    }
   ],
   "source": [
    "n2.count('xyz')"
   ]
  },
  {
   "cell_type": "code",
   "execution_count": 165,
   "id": "52092b66",
   "metadata": {},
   "outputs": [
    {
     "data": {
      "text/plain": [
       "0"
      ]
     },
     "execution_count": 165,
     "metadata": {},
     "output_type": "execute_result"
    }
   ],
   "source": [
    "n2.count('wrt')"
   ]
  },
  {
   "cell_type": "code",
   "execution_count": 166,
   "id": "82b9d2df",
   "metadata": {},
   "outputs": [],
   "source": [
    "n2.append('manish')"
   ]
  },
  {
   "cell_type": "code",
   "execution_count": 167,
   "id": "351f7a25",
   "metadata": {},
   "outputs": [
    {
     "data": {
      "text/plain": [
       "['sql',\n",
       " 327836542986,\n",
       " 'Machine Learning',\n",
       " 'xyz',\n",
       " 'Deep Learning',\n",
       " 'R Language',\n",
       " '1928374562728',\n",
       " 'abc',\n",
       " 'manish']"
      ]
     },
     "execution_count": 167,
     "metadata": {},
     "output_type": "execute_result"
    }
   ],
   "source": [
    "n2"
   ]
  },
  {
   "cell_type": "code",
   "execution_count": 168,
   "id": "d4bf7a38",
   "metadata": {},
   "outputs": [],
   "source": [
    "n2.append([234567891])"
   ]
  },
  {
   "cell_type": "code",
   "execution_count": 169,
   "id": "a7177b19",
   "metadata": {},
   "outputs": [
    {
     "data": {
      "text/plain": [
       "['sql',\n",
       " 327836542986,\n",
       " 'Machine Learning',\n",
       " 'xyz',\n",
       " 'Deep Learning',\n",
       " 'R Language',\n",
       " '1928374562728',\n",
       " 'abc',\n",
       " 'manish',\n",
       " [234567891]]"
      ]
     },
     "execution_count": 169,
     "metadata": {},
     "output_type": "execute_result"
    }
   ],
   "source": [
    "n2"
   ]
  },
  {
   "cell_type": "code",
   "execution_count": 170,
   "id": "15ebf81c",
   "metadata": {},
   "outputs": [],
   "source": [
    "n2.extend(['hindi','history','civics','Sanskrit','English'])"
   ]
  },
  {
   "cell_type": "code",
   "execution_count": 171,
   "id": "2866e8a6",
   "metadata": {},
   "outputs": [
    {
     "data": {
      "text/plain": [
       "['sql',\n",
       " 327836542986,\n",
       " 'Machine Learning',\n",
       " 'xyz',\n",
       " 'Deep Learning',\n",
       " 'R Language',\n",
       " '1928374562728',\n",
       " 'abc',\n",
       " 'manish',\n",
       " [234567891],\n",
       " 'hindi',\n",
       " 'history',\n",
       " 'civics',\n",
       " 'Sanskrit',\n",
       " 'English']"
      ]
     },
     "execution_count": 171,
     "metadata": {},
     "output_type": "execute_result"
    }
   ],
   "source": [
    "n2"
   ]
  },
  {
   "cell_type": "code",
   "execution_count": 173,
   "id": "bcdb59ba",
   "metadata": {},
   "outputs": [
    {
     "data": {
      "text/plain": [
       "'y'"
      ]
     },
     "execution_count": 173,
     "metadata": {},
     "output_type": "execute_result"
    }
   ],
   "source": [
    "n2[3][1]"
   ]
  },
  {
   "cell_type": "code",
   "execution_count": 174,
   "id": "411f1fd4",
   "metadata": {},
   "outputs": [
    {
     "data": {
      "text/plain": [
       "['sql',\n",
       " 327836542986,\n",
       " 'Machine Learning',\n",
       " 'xyz',\n",
       " 'Deep Learning',\n",
       " 'R Language',\n",
       " '1928374562728',\n",
       " 'abc',\n",
       " 'manish',\n",
       " [234567891],\n",
       " 'hindi',\n",
       " 'history',\n",
       " 'civics',\n",
       " 'Sanskrit',\n",
       " 'English',\n",
       " 'm',\n",
       " 'l',\n",
       " 'r',\n",
       " 't']"
      ]
     },
     "execution_count": 174,
     "metadata": {},
     "output_type": "execute_result"
    }
   ],
   "source": [
    "n2+list('mlrt')"
   ]
  },
  {
   "cell_type": "code",
   "execution_count": 175,
   "id": "92df2546",
   "metadata": {},
   "outputs": [
    {
     "data": {
      "text/plain": [
       "['sql',\n",
       " 327836542986,\n",
       " 'Machine Learning',\n",
       " 'xyz',\n",
       " 'Deep Learning',\n",
       " 'R Language',\n",
       " '1928374562728',\n",
       " 'abc',\n",
       " 'manish',\n",
       " [234567891],\n",
       " 'hindi',\n",
       " 'history',\n",
       " 'civics',\n",
       " 'Sanskrit',\n",
       " 'English']"
      ]
     },
     "execution_count": 175,
     "metadata": {},
     "output_type": "execute_result"
    }
   ],
   "source": [
    "n2"
   ]
  },
  {
   "cell_type": "code",
   "execution_count": 177,
   "id": "645ebd98",
   "metadata": {},
   "outputs": [
    {
     "data": {
      "text/plain": [
       "['sql',\n",
       " 327836542986,\n",
       " 'Machine Learning',\n",
       " 'xyz',\n",
       " 'Deep Learning',\n",
       " 'R Language',\n",
       " '1928374562728',\n",
       " 'abc',\n",
       " 'manish',\n",
       " [234567891],\n",
       " 'hindi',\n",
       " 'history',\n",
       " 'civics',\n",
       " 'Sanskrit',\n",
       " 'English',\n",
       " 'mlrt']"
      ]
     },
     "execution_count": 177,
     "metadata": {},
     "output_type": "execute_result"
    }
   ],
   "source": [
    "n2+['mlrt']"
   ]
  },
  {
   "cell_type": "code",
   "execution_count": 178,
   "id": "9fb297b2",
   "metadata": {},
   "outputs": [
    {
     "data": {
      "text/plain": [
       "['m', 'l', 'r', 't']"
      ]
     },
     "execution_count": 178,
     "metadata": {},
     "output_type": "execute_result"
    }
   ],
   "source": [
    "list('mlrt')"
   ]
  },
  {
   "cell_type": "code",
   "execution_count": 179,
   "id": "7e69ff52",
   "metadata": {},
   "outputs": [
    {
     "data": {
      "text/plain": [
       "['mlrt']"
      ]
     },
     "execution_count": 179,
     "metadata": {},
     "output_type": "execute_result"
    }
   ],
   "source": [
    "['mlrt']"
   ]
  },
  {
   "cell_type": "markdown",
   "id": "698b7453",
   "metadata": {},
   "source": [
    "# Tupple Set"
   ]
  },
  {
   "cell_type": "code",
   "execution_count": 180,
   "id": "01d477f3",
   "metadata": {},
   "outputs": [],
   "source": [
    "t=(1,2,3,4,5,6,7)"
   ]
  },
  {
   "cell_type": "code",
   "execution_count": 181,
   "id": "43ed75d1",
   "metadata": {},
   "outputs": [
    {
     "data": {
      "text/plain": [
       "tuple"
      ]
     },
     "execution_count": 181,
     "metadata": {},
     "output_type": "execute_result"
    }
   ],
   "source": [
    "type(t)"
   ]
  },
  {
   "cell_type": "code",
   "execution_count": 182,
   "id": "3a164f92",
   "metadata": {},
   "outputs": [],
   "source": [
    "z=[[1,2,3,4,5],(3456)]"
   ]
  },
  {
   "cell_type": "code",
   "execution_count": 183,
   "id": "b5f2d9ef",
   "metadata": {},
   "outputs": [
    {
     "data": {
      "text/plain": [
       "[[1, 2, 3, 4, 5], 3456]"
      ]
     },
     "execution_count": 183,
     "metadata": {},
     "output_type": "execute_result"
    }
   ],
   "source": [
    "z"
   ]
  },
  {
   "cell_type": "code",
   "execution_count": 184,
   "id": "93e5dbca",
   "metadata": {},
   "outputs": [],
   "source": [
    "t1=(\"python\",123,45+6j,546.45,True)"
   ]
  },
  {
   "cell_type": "code",
   "execution_count": 185,
   "id": "477db53c",
   "metadata": {},
   "outputs": [
    {
     "data": {
      "text/plain": [
       "('python', 123, (45+6j), 546.45, True)"
      ]
     },
     "execution_count": 185,
     "metadata": {},
     "output_type": "execute_result"
    }
   ],
   "source": [
    "t1"
   ]
  },
  {
   "cell_type": "code",
   "execution_count": 186,
   "id": "26a1342e",
   "metadata": {},
   "outputs": [],
   "source": [
    "x=[\"python\",123,45+6j,546.45,True]"
   ]
  },
  {
   "cell_type": "code",
   "execution_count": 187,
   "id": "ce392102",
   "metadata": {},
   "outputs": [
    {
     "data": {
      "text/plain": [
       "['python', 123, (45+6j), 546.45, True]"
      ]
     },
     "execution_count": 187,
     "metadata": {},
     "output_type": "execute_result"
    }
   ],
   "source": [
    "x\n"
   ]
  },
  {
   "cell_type": "code",
   "execution_count": 188,
   "id": "37c2490a",
   "metadata": {},
   "outputs": [
    {
     "data": {
      "text/plain": [
       "list"
      ]
     },
     "execution_count": 188,
     "metadata": {},
     "output_type": "execute_result"
    }
   ],
   "source": [
    "type(x)"
   ]
  },
  {
   "cell_type": "code",
   "execution_count": 189,
   "id": "0023095b",
   "metadata": {},
   "outputs": [],
   "source": [
    "t2=()"
   ]
  },
  {
   "cell_type": "code",
   "execution_count": 190,
   "id": "1840f447",
   "metadata": {},
   "outputs": [
    {
     "data": {
      "text/plain": [
       "tuple"
      ]
     },
     "execution_count": 190,
     "metadata": {},
     "output_type": "execute_result"
    }
   ],
   "source": [
    "type(t2)"
   ]
  },
  {
   "cell_type": "code",
   "execution_count": 193,
   "id": "547bca11",
   "metadata": {},
   "outputs": [
    {
     "data": {
      "text/plain": [
       "('python', 123, (45+6j), 546.45, True)"
      ]
     },
     "execution_count": 193,
     "metadata": {},
     "output_type": "execute_result"
    }
   ],
   "source": [
    "t1"
   ]
  },
  {
   "cell_type": "code",
   "execution_count": 195,
   "id": "a350cae0",
   "metadata": {},
   "outputs": [
    {
     "data": {
      "text/plain": [
       "['python', 123, (45+6j), 546.45, True]"
      ]
     },
     "execution_count": 195,
     "metadata": {},
     "output_type": "execute_result"
    }
   ],
   "source": [
    "x"
   ]
  },
  {
   "cell_type": "code",
   "execution_count": 196,
   "id": "35178dc6",
   "metadata": {},
   "outputs": [
    {
     "data": {
      "text/plain": [
       "('python', 123, (45+6j))"
      ]
     },
     "execution_count": 196,
     "metadata": {},
     "output_type": "execute_result"
    }
   ],
   "source": [
    "t1[0:3]"
   ]
  },
  {
   "cell_type": "markdown",
   "id": "5fad973c",
   "metadata": {},
   "source": [
    "# Reverse Order"
   ]
  },
  {
   "cell_type": "code",
   "execution_count": 197,
   "id": "b96feaed",
   "metadata": {},
   "outputs": [
    {
     "data": {
      "text/plain": [
       "(True, 546.45, (45+6j), 123, 'python')"
      ]
     },
     "execution_count": 197,
     "metadata": {},
     "output_type": "execute_result"
    }
   ],
   "source": [
    "t1[::-1]"
   ]
  },
  {
   "cell_type": "code",
   "execution_count": 198,
   "id": "e3c62f1e",
   "metadata": {},
   "outputs": [
    {
     "data": {
      "text/plain": [
       "('python', 123, (45+6j), 546.45, True)"
      ]
     },
     "execution_count": 198,
     "metadata": {},
     "output_type": "execute_result"
    }
   ],
   "source": [
    "t1"
   ]
  },
  {
   "cell_type": "code",
   "execution_count": 199,
   "id": "b6a989b5",
   "metadata": {},
   "outputs": [
    {
     "data": {
      "text/plain": [
       "(1, 2, 3, 4, 5, 6, 7)"
      ]
     },
     "execution_count": 199,
     "metadata": {},
     "output_type": "execute_result"
    }
   ],
   "source": [
    "t"
   ]
  },
  {
   "cell_type": "code",
   "execution_count": 200,
   "id": "fd8db7e7",
   "metadata": {},
   "outputs": [
    {
     "data": {
      "text/plain": [
       "(7, 6, 5, 4, 3, 2, 1)"
      ]
     },
     "execution_count": 200,
     "metadata": {},
     "output_type": "execute_result"
    }
   ],
   "source": [
    "t[::-1]"
   ]
  },
  {
   "cell_type": "markdown",
   "id": "c3041815",
   "metadata": {},
   "source": [
    "# Access element from last index"
   ]
  },
  {
   "cell_type": "code",
   "execution_count": 201,
   "id": "a3ed3dd7",
   "metadata": {},
   "outputs": [
    {
     "data": {
      "text/plain": [
       "('python', 123, (45+6j), 546.45, True)"
      ]
     },
     "execution_count": 201,
     "metadata": {},
     "output_type": "execute_result"
    }
   ],
   "source": [
    "t1"
   ]
  },
  {
   "cell_type": "code",
   "execution_count": 202,
   "id": "98f0f96a",
   "metadata": {},
   "outputs": [
    {
     "data": {
      "text/plain": [
       "True"
      ]
     },
     "execution_count": 202,
     "metadata": {},
     "output_type": "execute_result"
    }
   ],
   "source": [
    "t1[-1]"
   ]
  },
  {
   "cell_type": "code",
   "execution_count": 203,
   "id": "a9f6a28b",
   "metadata": {},
   "outputs": [
    {
     "data": {
      "text/plain": [
       "('python', 123, (45+6j), 546.45, True)"
      ]
     },
     "execution_count": 203,
     "metadata": {},
     "output_type": "execute_result"
    }
   ],
   "source": [
    "t1"
   ]
  },
  {
   "cell_type": "markdown",
   "id": "e1aa7b65",
   "metadata": {},
   "source": [
    "# item re-asssignment and list is mutable "
   ]
  },
  {
   "cell_type": "code",
   "execution_count": 204,
   "id": "fa4cc8b4",
   "metadata": {},
   "outputs": [
    {
     "data": {
      "text/plain": [
       "['mlrt', 'ravi', 345, (4+6j), True, 123.45]"
      ]
     },
     "execution_count": 204,
     "metadata": {},
     "output_type": "execute_result"
    }
   ],
   "source": [
    "l"
   ]
  },
  {
   "cell_type": "code",
   "execution_count": 205,
   "id": "89638b99",
   "metadata": {},
   "outputs": [
    {
     "data": {
      "text/plain": [
       "'mlrt'"
      ]
     },
     "execution_count": 205,
     "metadata": {},
     "output_type": "execute_result"
    }
   ],
   "source": [
    "l[0]"
   ]
  },
  {
   "cell_type": "code",
   "execution_count": 206,
   "id": "46c47c9c",
   "metadata": {},
   "outputs": [],
   "source": [
    "l[0]='manish'"
   ]
  },
  {
   "cell_type": "code",
   "execution_count": 207,
   "id": "458e176f",
   "metadata": {},
   "outputs": [
    {
     "data": {
      "text/plain": [
       "['manish', 'ravi', 345, (4+6j), True, 123.45]"
      ]
     },
     "execution_count": 207,
     "metadata": {},
     "output_type": "execute_result"
    }
   ],
   "source": [
    "l"
   ]
  },
  {
   "cell_type": "code",
   "execution_count": 208,
   "id": "a6b74079",
   "metadata": {},
   "outputs": [
    {
     "data": {
      "text/plain": [
       "('python', 123, (45+6j), 546.45, True)"
      ]
     },
     "execution_count": 208,
     "metadata": {},
     "output_type": "execute_result"
    }
   ],
   "source": [
    "t1"
   ]
  },
  {
   "cell_type": "markdown",
   "id": "96f346d7",
   "metadata": {},
   "source": [
    "# tuple is immutable\n",
    "# strings are immutable"
   ]
  },
  {
   "cell_type": "code",
   "execution_count": 209,
   "id": "40924229",
   "metadata": {},
   "outputs": [
    {
     "ename": "TypeError",
     "evalue": "'tuple' object does not support item assignment",
     "output_type": "error",
     "traceback": [
      "\u001b[1;31m---------------------------------------------------------------------------\u001b[0m",
      "\u001b[1;31mTypeError\u001b[0m                                 Traceback (most recent call last)",
      "\u001b[1;32m~\\AppData\\Local\\Temp\\ipykernel_9788\\2760153284.py\u001b[0m in \u001b[0;36m<module>\u001b[1;34m\u001b[0m\n\u001b[1;32m----> 1\u001b[1;33m \u001b[0mt1\u001b[0m\u001b[1;33m[\u001b[0m\u001b[1;36m0\u001b[0m\u001b[1;33m]\u001b[0m\u001b[1;33m=\u001b[0m\u001b[1;34m'sinha'\u001b[0m\u001b[1;33m\u001b[0m\u001b[1;33m\u001b[0m\u001b[0m\n\u001b[0m",
      "\u001b[1;31mTypeError\u001b[0m: 'tuple' object does not support item assignment"
     ]
    }
   ],
   "source": [
    "t1[0]='sinha'"
   ]
  },
  {
   "cell_type": "markdown",
   "id": "f85ae838",
   "metadata": {},
   "source": [
    "# Concatenation"
   ]
  },
  {
   "cell_type": "code",
   "execution_count": 210,
   "id": "3e397687",
   "metadata": {},
   "outputs": [
    {
     "data": {
      "text/plain": [
       "[12938938392829, 'ravi', 432945678, 'python']"
      ]
     },
     "execution_count": 210,
     "metadata": {},
     "output_type": "execute_result"
    }
   ],
   "source": [
    "n1"
   ]
  },
  {
   "cell_type": "code",
   "execution_count": 211,
   "id": "74507dad",
   "metadata": {},
   "outputs": [
    {
     "data": {
      "text/plain": [
       "['sql',\n",
       " 327836542986,\n",
       " 'Machine Learning',\n",
       " 'xyz',\n",
       " 'Deep Learning',\n",
       " 'R Language',\n",
       " '1928374562728',\n",
       " 'abc',\n",
       " 'manish',\n",
       " [234567891],\n",
       " 'hindi',\n",
       " 'history',\n",
       " 'civics',\n",
       " 'Sanskrit',\n",
       " 'English']"
      ]
     },
     "execution_count": 211,
     "metadata": {},
     "output_type": "execute_result"
    }
   ],
   "source": [
    "n2"
   ]
  },
  {
   "cell_type": "code",
   "execution_count": 212,
   "id": "8a85633c",
   "metadata": {},
   "outputs": [
    {
     "data": {
      "text/plain": [
       "[12938938392829,\n",
       " 'ravi',\n",
       " 432945678,\n",
       " 'python',\n",
       " 'sql',\n",
       " 327836542986,\n",
       " 'Machine Learning',\n",
       " 'xyz',\n",
       " 'Deep Learning',\n",
       " 'R Language',\n",
       " '1928374562728',\n",
       " 'abc',\n",
       " 'manish',\n",
       " [234567891],\n",
       " 'hindi',\n",
       " 'history',\n",
       " 'civics',\n",
       " 'Sanskrit',\n",
       " 'English']"
      ]
     },
     "execution_count": 212,
     "metadata": {},
     "output_type": "execute_result"
    }
   ],
   "source": [
    "n1+n2"
   ]
  },
  {
   "cell_type": "markdown",
   "id": "829b9fc8",
   "metadata": {},
   "source": [
    "#    # inbuild functions between list and tupple"
   ]
  },
  {
   "cell_type": "code",
   "execution_count": 213,
   "id": "b9e3c611",
   "metadata": {},
   "outputs": [
    {
     "data": {
      "text/plain": [
       "['manish', 'ravi', 345, (4+6j), True, 123.45]"
      ]
     },
     "execution_count": 213,
     "metadata": {},
     "output_type": "execute_result"
    }
   ],
   "source": [
    "l"
   ]
  },
  {
   "cell_type": "code",
   "execution_count": 214,
   "id": "2e13b244",
   "metadata": {},
   "outputs": [
    {
     "data": {
      "text/plain": [
       "('python', 123, (45+6j), 546.45, True)"
      ]
     },
     "execution_count": 214,
     "metadata": {},
     "output_type": "execute_result"
    }
   ],
   "source": [
    "t1"
   ]
  },
  {
   "cell_type": "code",
   "execution_count": 215,
   "id": "b2a2c754",
   "metadata": {},
   "outputs": [
    {
     "data": {
      "text/plain": [
       "0"
      ]
     },
     "execution_count": 215,
     "metadata": {},
     "output_type": "execute_result"
    }
   ],
   "source": [
    "t1.count('Python')"
   ]
  },
  {
   "cell_type": "code",
   "execution_count": 216,
   "id": "b2cae265",
   "metadata": {},
   "outputs": [
    {
     "data": {
      "text/plain": [
       "1"
      ]
     },
     "execution_count": 216,
     "metadata": {},
     "output_type": "execute_result"
    }
   ],
   "source": [
    "t1.count(123)"
   ]
  },
  {
   "cell_type": "code",
   "execution_count": 217,
   "id": "c793cb15",
   "metadata": {},
   "outputs": [
    {
     "data": {
      "text/plain": [
       "0"
      ]
     },
     "execution_count": 217,
     "metadata": {},
     "output_type": "execute_result"
    }
   ],
   "source": [
    "t1.index('python')"
   ]
  },
  {
   "cell_type": "code",
   "execution_count": 218,
   "id": "ff459c70",
   "metadata": {},
   "outputs": [
    {
     "data": {
      "text/plain": [
       "4"
      ]
     },
     "execution_count": 218,
     "metadata": {},
     "output_type": "execute_result"
    }
   ],
   "source": [
    "t1.index(True)"
   ]
  },
  {
   "cell_type": "code",
   "execution_count": 220,
   "id": "df24ca30",
   "metadata": {},
   "outputs": [],
   "source": [
    "t=(45,54,78,89,67,(4,5,6),('mlrt'))"
   ]
  },
  {
   "cell_type": "code",
   "execution_count": 221,
   "id": "52ead590",
   "metadata": {},
   "outputs": [
    {
     "data": {
      "text/plain": [
       "(45, 54, 78, 89, 67, (4, 5, 6), 'mlrt')"
      ]
     },
     "execution_count": 221,
     "metadata": {},
     "output_type": "execute_result"
    }
   ],
   "source": [
    "t"
   ]
  },
  {
   "cell_type": "code",
   "execution_count": 222,
   "id": "7bac352d",
   "metadata": {},
   "outputs": [],
   "source": [
    "t1=([1,2,3,4,5,6],\"mlrt\",1235432,\"abc\")"
   ]
  },
  {
   "cell_type": "code",
   "execution_count": 226,
   "id": "5a46e8be",
   "metadata": {},
   "outputs": [
    {
     "data": {
      "text/plain": [
       "([1, 2, 3, 8, 5, 6], 'mlrt', 1235432, 'abc')"
      ]
     },
     "execution_count": 226,
     "metadata": {},
     "output_type": "execute_result"
    }
   ],
   "source": [
    "t1"
   ]
  },
  {
   "cell_type": "code",
   "execution_count": 225,
   "id": "f65148d0",
   "metadata": {},
   "outputs": [],
   "source": [
    "t1[0][3]=8"
   ]
  },
  {
   "cell_type": "code",
   "execution_count": 227,
   "id": "9e822477",
   "metadata": {},
   "outputs": [
    {
     "data": {
      "text/plain": [
       "([1, 2, 3, 8, 5, 6], 'mlrt', 1235432, 'abc')"
      ]
     },
     "execution_count": 227,
     "metadata": {},
     "output_type": "execute_result"
    }
   ],
   "source": [
    "t1"
   ]
  },
  {
   "cell_type": "markdown",
   "id": "d4074901",
   "metadata": {},
   "source": [
    "# conversion from tuple to list vice versa"
   ]
  },
  {
   "cell_type": "code",
   "execution_count": 231,
   "id": "d00caf4a",
   "metadata": {},
   "outputs": [],
   "source": [
    "p=(1,2,3,4,5,6,7,8,9)"
   ]
  },
  {
   "cell_type": "code",
   "execution_count": 232,
   "id": "af13a97a",
   "metadata": {},
   "outputs": [
    {
     "data": {
      "text/plain": [
       "[1, 2, 3, 4, 5, 6, 7, 8, 9]"
      ]
     },
     "execution_count": 232,
     "metadata": {},
     "output_type": "execute_result"
    }
   ],
   "source": [
    "list(p)"
   ]
  },
  {
   "cell_type": "code",
   "execution_count": 233,
   "id": "ef6c6c2e",
   "metadata": {},
   "outputs": [],
   "source": [
    "l=list(p)"
   ]
  },
  {
   "cell_type": "code",
   "execution_count": 234,
   "id": "1b79943f",
   "metadata": {},
   "outputs": [
    {
     "data": {
      "text/plain": [
       "[1, 2, 3, 4, 5, 6, 7, 8, 9]"
      ]
     },
     "execution_count": 234,
     "metadata": {},
     "output_type": "execute_result"
    }
   ],
   "source": [
    "l"
   ]
  },
  {
   "cell_type": "code",
   "execution_count": 235,
   "id": "c26b7b07",
   "metadata": {},
   "outputs": [
    {
     "data": {
      "text/plain": [
       "(1, 2, 3, 4, 5, 6, 7, 8, 9)"
      ]
     },
     "execution_count": 235,
     "metadata": {},
     "output_type": "execute_result"
    }
   ],
   "source": [
    "tuple(l)"
   ]
  },
  {
   "cell_type": "code",
   "execution_count": 236,
   "id": "cc4eb987",
   "metadata": {},
   "outputs": [
    {
     "data": {
      "text/plain": [
       "[1, 2, 3, 4, 5, 6, 7, 8, 9]"
      ]
     },
     "execution_count": 236,
     "metadata": {},
     "output_type": "execute_result"
    }
   ],
   "source": [
    "l"
   ]
  },
  {
   "cell_type": "code",
   "execution_count": 237,
   "id": "d3d6c8c1",
   "metadata": {},
   "outputs": [
    {
     "data": {
      "text/plain": [
       "(1, 2, 3, 4, 5, 6, 7, 8, 9)"
      ]
     },
     "execution_count": 237,
     "metadata": {},
     "output_type": "execute_result"
    }
   ],
   "source": [
    "p"
   ]
  },
  {
   "cell_type": "markdown",
   "id": "486b1367",
   "metadata": {},
   "source": [
    " # Set Operation set is not support duplicate elements and indexing operation not allowed inside set.\n",
    "    "
   ]
  },
  {
   "cell_type": "code",
   "execution_count": 238,
   "id": "95001b04",
   "metadata": {},
   "outputs": [],
   "source": [
    "l=[1,2,3,4,5,6,7,8,4,4,5,3,2,6,5,6,7,8,23,4,5,66,7,7,8]"
   ]
  },
  {
   "cell_type": "code",
   "execution_count": 239,
   "id": "f124fb95",
   "metadata": {},
   "outputs": [
    {
     "data": {
      "text/plain": [
       "[1, 2, 3, 4, 5, 6, 7, 8, 4, 4, 5, 3, 2, 6, 5, 6, 7, 8, 23, 4, 5, 66, 7, 7, 8]"
      ]
     },
     "execution_count": 239,
     "metadata": {},
     "output_type": "execute_result"
    }
   ],
   "source": [
    "l"
   ]
  },
  {
   "cell_type": "code",
   "execution_count": 240,
   "id": "8f9536c3",
   "metadata": {},
   "outputs": [],
   "source": [
    "s={}"
   ]
  },
  {
   "cell_type": "code",
   "execution_count": 241,
   "id": "4843dc72",
   "metadata": {},
   "outputs": [
    {
     "data": {
      "text/plain": [
       "dict"
      ]
     },
     "execution_count": 241,
     "metadata": {},
     "output_type": "execute_result"
    }
   ],
   "source": [
    "type(s)"
   ]
  },
  {
   "cell_type": "code",
   "execution_count": 244,
   "id": "e6c2bc50",
   "metadata": {},
   "outputs": [],
   "source": [
    "s={1,2,3,4,4,5,6,5,6}"
   ]
  },
  {
   "cell_type": "code",
   "execution_count": 243,
   "id": "0e61272c",
   "metadata": {},
   "outputs": [
    {
     "data": {
      "text/plain": [
       "set"
      ]
     },
     "execution_count": 243,
     "metadata": {},
     "output_type": "execute_result"
    }
   ],
   "source": [
    "type(s)"
   ]
  },
  {
   "cell_type": "code",
   "execution_count": 245,
   "id": "dd81e7f6",
   "metadata": {},
   "outputs": [
    {
     "data": {
      "text/plain": [
       "{1, 2, 3, 4, 5, 6}"
      ]
     },
     "execution_count": 245,
     "metadata": {},
     "output_type": "execute_result"
    }
   ],
   "source": [
    "s"
   ]
  },
  {
   "cell_type": "code",
   "execution_count": 247,
   "id": "c7c442b4",
   "metadata": {},
   "outputs": [
    {
     "data": {
      "text/plain": [
       "set"
      ]
     },
     "execution_count": 247,
     "metadata": {},
     "output_type": "execute_result"
    }
   ],
   "source": [
    "type(s)"
   ]
  },
  {
   "cell_type": "code",
   "execution_count": 249,
   "id": "3d44a838",
   "metadata": {},
   "outputs": [
    {
     "data": {
      "text/plain": [
       "{1, 2, 3, 4, 5, 6}"
      ]
     },
     "execution_count": 249,
     "metadata": {},
     "output_type": "execute_result"
    }
   ],
   "source": [
    "s"
   ]
  },
  {
   "cell_type": "code",
   "execution_count": 250,
   "id": "26520e12",
   "metadata": {},
   "outputs": [
    {
     "data": {
      "text/plain": [
       "[1, 2, 3, 4, 5, 6]"
      ]
     },
     "execution_count": 250,
     "metadata": {},
     "output_type": "execute_result"
    }
   ],
   "source": [
    "list(s)"
   ]
  },
  {
   "cell_type": "code",
   "execution_count": 251,
   "id": "3c775094",
   "metadata": {},
   "outputs": [
    {
     "data": {
      "text/plain": [
       "{1, 2, 3, 4, 5, 6}"
      ]
     },
     "execution_count": 251,
     "metadata": {},
     "output_type": "execute_result"
    }
   ],
   "source": [
    "s"
   ]
  },
  {
   "cell_type": "code",
   "execution_count": 252,
   "id": "a0ad1e6f",
   "metadata": {},
   "outputs": [],
   "source": [
    "l=list(s)"
   ]
  },
  {
   "cell_type": "code",
   "execution_count": 253,
   "id": "9367e8e7",
   "metadata": {},
   "outputs": [
    {
     "data": {
      "text/plain": [
       "[1, 2, 3, 4, 5, 6]"
      ]
     },
     "execution_count": 253,
     "metadata": {},
     "output_type": "execute_result"
    }
   ],
   "source": [
    "l"
   ]
  },
  {
   "cell_type": "code",
   "execution_count": 254,
   "id": "3e2fa853",
   "metadata": {},
   "outputs": [
    {
     "data": {
      "text/plain": [
       "1"
      ]
     },
     "execution_count": 254,
     "metadata": {},
     "output_type": "execute_result"
    }
   ],
   "source": [
    "l[0]"
   ]
  },
  {
   "cell_type": "code",
   "execution_count": 258,
   "id": "ccc14b3c",
   "metadata": {},
   "outputs": [
    {
     "data": {
      "text/plain": [
       "[1, 2, 3, 4, 5, 6]"
      ]
     },
     "execution_count": 258,
     "metadata": {},
     "output_type": "execute_result"
    }
   ],
   "source": [
    "list(s)"
   ]
  },
  {
   "cell_type": "code",
   "execution_count": 259,
   "id": "7dd73531",
   "metadata": {},
   "outputs": [
    {
     "data": {
      "text/plain": [
       "(1, 2, 3, 4, 5, 6)"
      ]
     },
     "execution_count": 259,
     "metadata": {},
     "output_type": "execute_result"
    }
   ],
   "source": [
    "tuple(s)"
   ]
  },
  {
   "cell_type": "code",
   "execution_count": 260,
   "id": "11b8030a",
   "metadata": {},
   "outputs": [
    {
     "data": {
      "text/plain": [
       "{1, 2, 3, 4, 5, 6}"
      ]
     },
     "execution_count": 260,
     "metadata": {},
     "output_type": "execute_result"
    }
   ],
   "source": [
    "s"
   ]
  },
  {
   "cell_type": "code",
   "execution_count": 264,
   "id": "e99c516f",
   "metadata": {},
   "outputs": [],
   "source": [
    "s.add(88)"
   ]
  },
  {
   "cell_type": "code",
   "execution_count": 265,
   "id": "f6cb7aed",
   "metadata": {},
   "outputs": [
    {
     "data": {
      "text/plain": [
       "{1, 2, 3, 4, 5, 6, 77, 88}"
      ]
     },
     "execution_count": 265,
     "metadata": {},
     "output_type": "execute_result"
    }
   ],
   "source": [
    "s"
   ]
  },
  {
   "cell_type": "code",
   "execution_count": 266,
   "id": "d47ef932",
   "metadata": {},
   "outputs": [
    {
     "data": {
      "text/plain": [
       "'C:\\\\Users\\\\manis'"
      ]
     },
     "execution_count": 266,
     "metadata": {},
     "output_type": "execute_result"
    }
   ],
   "source": [
    "pwd()"
   ]
  },
  {
   "cell_type": "code",
   "execution_count": 267,
   "id": "31b10161",
   "metadata": {},
   "outputs": [],
   "source": [
    "s2 = {1,2,3,'mlrt',4.56,'python'}"
   ]
  },
  {
   "cell_type": "code",
   "execution_count": 268,
   "id": "4d32eecc",
   "metadata": {},
   "outputs": [],
   "source": [
    "s2.add('java')"
   ]
  },
  {
   "cell_type": "code",
   "execution_count": 269,
   "id": "edfe2a7f",
   "metadata": {},
   "outputs": [
    {
     "data": {
      "text/plain": [
       "{1, 2, 3, 4.56, 'java', 'mlrt', 'python'}"
      ]
     },
     "execution_count": 269,
     "metadata": {},
     "output_type": "execute_result"
    }
   ],
   "source": [
    "s2"
   ]
  },
  {
   "cell_type": "markdown",
   "id": "e250dfe4",
   "metadata": {},
   "source": [
    "# list is not allowed in set and list is mutable"
   ]
  },
  {
   "cell_type": "code",
   "execution_count": 270,
   "id": "d0d145f2",
   "metadata": {},
   "outputs": [
    {
     "ename": "TypeError",
     "evalue": "unhashable type: 'list'",
     "output_type": "error",
     "traceback": [
      "\u001b[1;31m---------------------------------------------------------------------------\u001b[0m",
      "\u001b[1;31mTypeError\u001b[0m                                 Traceback (most recent call last)",
      "\u001b[1;32m~\\AppData\\Local\\Temp\\ipykernel_9788\\972243444.py\u001b[0m in \u001b[0;36m<module>\u001b[1;34m\u001b[0m\n\u001b[1;32m----> 1\u001b[1;33m \u001b[0ms2\u001b[0m\u001b[1;33m.\u001b[0m\u001b[0madd\u001b[0m\u001b[1;33m(\u001b[0m\u001b[1;33m[\u001b[0m\u001b[1;36m23\u001b[0m\u001b[1;33m,\u001b[0m\u001b[1;36m45\u001b[0m\u001b[1;33m,\u001b[0m\u001b[1;36m67\u001b[0m\u001b[1;33m,\u001b[0m\u001b[1;36m89\u001b[0m\u001b[1;33m]\u001b[0m\u001b[1;33m)\u001b[0m\u001b[1;33m\u001b[0m\u001b[1;33m\u001b[0m\u001b[0m\n\u001b[0m",
      "\u001b[1;31mTypeError\u001b[0m: unhashable type: 'list'"
     ]
    }
   ],
   "source": [
    "s2.add([23,45,67,89])"
   ]
  },
  {
   "cell_type": "code",
   "execution_count": 272,
   "id": "732c4393",
   "metadata": {},
   "outputs": [],
   "source": [
    "v={(1,2,3,4,5,6,7,8,9)}"
   ]
  },
  {
   "cell_type": "code",
   "execution_count": 273,
   "id": "7ac3819a",
   "metadata": {},
   "outputs": [
    {
     "data": {
      "text/plain": [
       "{(1, 2, 3, 4, 5, 6, 7, 8, 9)}"
      ]
     },
     "execution_count": 273,
     "metadata": {},
     "output_type": "execute_result"
    }
   ],
   "source": [
    "v"
   ]
  },
  {
   "cell_type": "code",
   "execution_count": 274,
   "id": "3a425aea",
   "metadata": {},
   "outputs": [],
   "source": [
    "s2.add((1,2,3,4,5,6,7,))"
   ]
  },
  {
   "cell_type": "code",
   "execution_count": 275,
   "id": "2e29f136",
   "metadata": {},
   "outputs": [
    {
     "data": {
      "text/plain": [
       "{(1, 2, 3, 4, 5, 6, 7), 1, 2, 3, 4.56, 'java', 'mlrt', 'python'}"
      ]
     },
     "execution_count": 275,
     "metadata": {},
     "output_type": "execute_result"
    }
   ],
   "source": [
    "s2"
   ]
  },
  {
   "cell_type": "code",
   "execution_count": 276,
   "id": "615869ef",
   "metadata": {},
   "outputs": [
    {
     "data": {
      "text/plain": [
       "set"
      ]
     },
     "execution_count": 276,
     "metadata": {},
     "output_type": "execute_result"
    }
   ],
   "source": [
    "type(s2)"
   ]
  },
  {
   "cell_type": "code",
   "execution_count": 277,
   "id": "46a71630",
   "metadata": {},
   "outputs": [
    {
     "data": {
      "text/plain": [
       "{(1, 2, 3, 4, 5, 6, 7), 1, 2, 3, 4.56, 'java', 'mlrt', 'python'}"
      ]
     },
     "execution_count": 277,
     "metadata": {},
     "output_type": "execute_result"
    }
   ],
   "source": [
    "s2"
   ]
  },
  {
   "cell_type": "code",
   "execution_count": 280,
   "id": "93f5b642",
   "metadata": {},
   "outputs": [
    {
     "ename": "KeyError",
     "evalue": "4",
     "output_type": "error",
     "traceback": [
      "\u001b[1;31m---------------------------------------------------------------------------\u001b[0m",
      "\u001b[1;31mKeyError\u001b[0m                                  Traceback (most recent call last)",
      "\u001b[1;32m~\\AppData\\Local\\Temp\\ipykernel_9788\\1857552758.py\u001b[0m in \u001b[0;36m<module>\u001b[1;34m\u001b[0m\n\u001b[1;32m----> 1\u001b[1;33m \u001b[0ms2\u001b[0m\u001b[1;33m.\u001b[0m\u001b[0mremove\u001b[0m\u001b[1;33m(\u001b[0m\u001b[1;36m4\u001b[0m\u001b[1;33m)\u001b[0m\u001b[1;33m\u001b[0m\u001b[1;33m\u001b[0m\u001b[0m\n\u001b[0m",
      "\u001b[1;31mKeyError\u001b[0m: 4"
     ]
    }
   ],
   "source": [
    "s2.remove(4)"
   ]
  },
  {
   "cell_type": "code",
   "execution_count": 279,
   "id": "d4f2886f",
   "metadata": {},
   "outputs": [
    {
     "data": {
      "text/plain": [
       "{1, 2, 3, 5, 6, 77, 88}"
      ]
     },
     "execution_count": 279,
     "metadata": {},
     "output_type": "execute_result"
    }
   ],
   "source": [
    "s"
   ]
  },
  {
   "cell_type": "code",
   "execution_count": 281,
   "id": "9a8b9686",
   "metadata": {},
   "outputs": [],
   "source": [
    "s.remove(1)"
   ]
  },
  {
   "cell_type": "code",
   "execution_count": 282,
   "id": "4ceea314",
   "metadata": {},
   "outputs": [
    {
     "data": {
      "text/plain": [
       "{2, 3, 5, 6, 77, 88}"
      ]
     },
     "execution_count": 282,
     "metadata": {},
     "output_type": "execute_result"
    }
   ],
   "source": [
    "s"
   ]
  },
  {
   "cell_type": "code",
   "execution_count": 283,
   "id": "faf16c0d",
   "metadata": {},
   "outputs": [
    {
     "ename": "KeyError",
     "evalue": "22",
     "output_type": "error",
     "traceback": [
      "\u001b[1;31m---------------------------------------------------------------------------\u001b[0m",
      "\u001b[1;31mKeyError\u001b[0m                                  Traceback (most recent call last)",
      "\u001b[1;32m~\\AppData\\Local\\Temp\\ipykernel_9788\\3844898352.py\u001b[0m in \u001b[0;36m<module>\u001b[1;34m\u001b[0m\n\u001b[1;32m----> 1\u001b[1;33m \u001b[0ms\u001b[0m\u001b[1;33m.\u001b[0m\u001b[0mremove\u001b[0m\u001b[1;33m(\u001b[0m\u001b[1;36m22\u001b[0m\u001b[1;33m)\u001b[0m\u001b[1;33m\u001b[0m\u001b[1;33m\u001b[0m\u001b[0m\n\u001b[0m",
      "\u001b[1;31mKeyError\u001b[0m: 22"
     ]
    }
   ],
   "source": [
    "s.remove(22)"
   ]
  },
  {
   "cell_type": "code",
   "execution_count": 284,
   "id": "4af7c9fc",
   "metadata": {},
   "outputs": [],
   "source": [
    "s.discard(23)"
   ]
  },
  {
   "cell_type": "code",
   "execution_count": 285,
   "id": "30a3daf0",
   "metadata": {},
   "outputs": [],
   "source": [
    "s.clear()"
   ]
  },
  {
   "cell_type": "code",
   "execution_count": 286,
   "id": "b3fcd264",
   "metadata": {},
   "outputs": [
    {
     "data": {
      "text/plain": [
       "set()"
      ]
     },
     "execution_count": 286,
     "metadata": {},
     "output_type": "execute_result"
    }
   ],
   "source": [
    "s"
   ]
  },
  {
   "cell_type": "code",
   "execution_count": 287,
   "id": "56bba50a",
   "metadata": {},
   "outputs": [],
   "source": [
    "s={1,2,3,4,5,6,7,8,9}"
   ]
  },
  {
   "cell_type": "code",
   "execution_count": 288,
   "id": "3b47e175",
   "metadata": {},
   "outputs": [
    {
     "data": {
      "text/plain": [
       "{1, 2, 3, 4, 5, 6, 7, 8, 9}"
      ]
     },
     "execution_count": 288,
     "metadata": {},
     "output_type": "execute_result"
    }
   ],
   "source": [
    "s"
   ]
  },
  {
   "cell_type": "code",
   "execution_count": 291,
   "id": "2073c904",
   "metadata": {},
   "outputs": [
    {
     "data": {
      "text/plain": [
       "2"
      ]
     },
     "execution_count": 291,
     "metadata": {},
     "output_type": "execute_result"
    }
   ],
   "source": [
    "s.pop()"
   ]
  },
  {
   "cell_type": "code",
   "execution_count": 292,
   "id": "a4813e8d",
   "metadata": {},
   "outputs": [
    {
     "data": {
      "text/plain": [
       "{3, 4, 5, 6, 7, 8, 9}"
      ]
     },
     "execution_count": 292,
     "metadata": {},
     "output_type": "execute_result"
    }
   ],
   "source": [
    "s"
   ]
  },
  {
   "cell_type": "code",
   "execution_count": 293,
   "id": "7c2489f4",
   "metadata": {},
   "outputs": [],
   "source": [
    "a={\"mlrt\",\"MLRT\"}"
   ]
  },
  {
   "cell_type": "code",
   "execution_count": 294,
   "id": "9c72f7ec",
   "metadata": {},
   "outputs": [
    {
     "data": {
      "text/plain": [
       "{'MLRT', 'mlrt'}"
      ]
     },
     "execution_count": 294,
     "metadata": {},
     "output_type": "execute_result"
    }
   ],
   "source": [
    "a"
   ]
  },
  {
   "cell_type": "code",
   "execution_count": 295,
   "id": "40bbe930",
   "metadata": {},
   "outputs": [],
   "source": [
    "s={1,2,3,4,5,6,7,23,4,5,6,7,8,23,4,5,6,\"python\",'java'}"
   ]
  },
  {
   "cell_type": "code",
   "execution_count": 296,
   "id": "fb8e8ea9",
   "metadata": {},
   "outputs": [
    {
     "data": {
      "text/plain": [
       "{1, 2, 23, 3, 4, 5, 6, 7, 8, 'java', 'python'}"
      ]
     },
     "execution_count": 296,
     "metadata": {},
     "output_type": "execute_result"
    }
   ],
   "source": [
    "s"
   ]
  },
  {
   "cell_type": "markdown",
   "id": "f256fa2f",
   "metadata": {},
   "source": [
    "# Dictionary "
   ]
  },
  {
   "cell_type": "code",
   "execution_count": 298,
   "id": "835253c4",
   "metadata": {},
   "outputs": [],
   "source": [
    "d={}"
   ]
  },
  {
   "cell_type": "code",
   "execution_count": 299,
   "id": "ff446461",
   "metadata": {},
   "outputs": [
    {
     "data": {
      "text/plain": [
       "dict"
      ]
     },
     "execution_count": 299,
     "metadata": {},
     "output_type": "execute_result"
    }
   ],
   "source": [
    "type(d)"
   ]
  },
  {
   "cell_type": "code",
   "execution_count": 300,
   "id": "0a29f6ae",
   "metadata": {},
   "outputs": [],
   "source": [
    "d={4:\"mlrt\"}"
   ]
  },
  {
   "cell_type": "code",
   "execution_count": 301,
   "id": "7900de80",
   "metadata": {},
   "outputs": [
    {
     "data": {
      "text/plain": [
       "{4: 'mlrt'}"
      ]
     },
     "execution_count": 301,
     "metadata": {},
     "output_type": "execute_result"
    }
   ],
   "source": [
    "d"
   ]
  },
  {
   "cell_type": "code",
   "execution_count": 302,
   "id": "cc0ea277",
   "metadata": {},
   "outputs": [],
   "source": [
    "d1={'key1':\"mlrt\",'key2':'manish','key3':'[1,2,3,4,5,6,7,8]'}"
   ]
  },
  {
   "cell_type": "code",
   "execution_count": 303,
   "id": "c12a9372",
   "metadata": {},
   "outputs": [
    {
     "data": {
      "text/plain": [
       "{'key1': 'mlrt', 'key2': 'manish', 'key3': '[1,2,3,4,5,6,7,8]'}"
      ]
     },
     "execution_count": 303,
     "metadata": {},
     "output_type": "execute_result"
    }
   ],
   "source": [
    "d1"
   ]
  },
  {
   "cell_type": "code",
   "execution_count": 304,
   "id": "38418cf5",
   "metadata": {},
   "outputs": [
    {
     "data": {
      "text/plain": [
       "3"
      ]
     },
     "execution_count": 304,
     "metadata": {},
     "output_type": "execute_result"
    }
   ],
   "source": [
    "l=[3,4,5,6,7,8]\n",
    "l[0]"
   ]
  },
  {
   "cell_type": "code",
   "execution_count": 307,
   "id": "13da1d07",
   "metadata": {},
   "outputs": [
    {
     "data": {
      "text/plain": [
       "'mlrt'"
      ]
     },
     "execution_count": 307,
     "metadata": {},
     "output_type": "execute_result"
    }
   ],
   "source": [
    "d1['key1']"
   ]
  },
  {
   "cell_type": "code",
   "execution_count": 308,
   "id": "649cbdea",
   "metadata": {},
   "outputs": [
    {
     "data": {
      "text/plain": [
       "'manish'"
      ]
     },
     "execution_count": 308,
     "metadata": {},
     "output_type": "execute_result"
    }
   ],
   "source": [
    "d1['key2']"
   ]
  },
  {
   "cell_type": "code",
   "execution_count": 309,
   "id": "fc59c40e",
   "metadata": {},
   "outputs": [],
   "source": [
    "d2={3:'mlrt','abcd':23456}"
   ]
  },
  {
   "cell_type": "code",
   "execution_count": 310,
   "id": "a63e836d",
   "metadata": {},
   "outputs": [
    {
     "data": {
      "text/plain": [
       "{3: 'mlrt', 'abcd': 23456}"
      ]
     },
     "execution_count": 310,
     "metadata": {},
     "output_type": "execute_result"
    }
   ],
   "source": [
    "d2"
   ]
  },
  {
   "cell_type": "code",
   "execution_count": 311,
   "id": "0defb8fe",
   "metadata": {},
   "outputs": [],
   "source": [
    "d2={.3:'mlrt','abcd':23456}"
   ]
  },
  {
   "cell_type": "markdown",
   "id": "9a98e2e3",
   "metadata": {},
   "source": [
    "# special character are not allowed as key in dictionary"
   ]
  },
  {
   "cell_type": "code",
   "execution_count": 312,
   "id": "f156ab9d",
   "metadata": {},
   "outputs": [],
   "source": [
    "d3={'key1':(1,2,3,4,5,6)}"
   ]
  },
  {
   "cell_type": "code",
   "execution_count": 313,
   "id": "9da1c753",
   "metadata": {},
   "outputs": [],
   "source": [
    "d4={'key1':[1,2,3,4,5,6,7],'key2':(1,2,3,98,7),'key3':'phone','key4':15}"
   ]
  },
  {
   "cell_type": "code",
   "execution_count": 314,
   "id": "4580b514",
   "metadata": {},
   "outputs": [
    {
     "data": {
      "text/plain": [
       "{'key1': [1, 2, 3, 4, 5, 6, 7],\n",
       " 'key2': (1, 2, 3, 98, 7),\n",
       " 'key3': 'phone',\n",
       " 'key4': 15}"
      ]
     },
     "execution_count": 314,
     "metadata": {},
     "output_type": "execute_result"
    }
   ],
   "source": [
    "d4"
   ]
  },
  {
   "cell_type": "code",
   "execution_count": 315,
   "id": "41e0f013",
   "metadata": {},
   "outputs": [],
   "source": [
    "d5={'@@@@@':'java'}"
   ]
  },
  {
   "cell_type": "code",
   "execution_count": 316,
   "id": "2c7d671e",
   "metadata": {},
   "outputs": [
    {
     "data": {
      "text/plain": [
       "{'@@@@@': 'java'}"
      ]
     },
     "execution_count": 316,
     "metadata": {},
     "output_type": "execute_result"
    }
   ],
   "source": [
    "d5"
   ]
  },
  {
   "cell_type": "code",
   "execution_count": 320,
   "id": "aebf85f6",
   "metadata": {},
   "outputs": [],
   "source": [
    "d6={'Name':'Manish Gupta','PhoneNo':'7838838843','Emailid':'Manishguptanalyst@gmail.com','key1':\n",
    "    (1,2,3,4,5,6),'key2':[1,2,3,4,5,6,7,8],'key3':{1,2,3,4,5,6,7,8,9}}"
   ]
  },
  {
   "cell_type": "code",
   "execution_count": 321,
   "id": "5564fdb6",
   "metadata": {},
   "outputs": [
    {
     "data": {
      "text/plain": [
       "{'Name': 'Manish Gupta',\n",
       " 'PhoneNo': '7838838843',\n",
       " 'Emailid': 'Manishguptanalyst@gmail.com',\n",
       " 'key1': (1, 2, 3, 4, 5, 6),\n",
       " 'key2': [1, 2, 3, 4, 5, 6, 7, 8],\n",
       " 'key3': {1, 2, 3, 4, 5, 6, 7, 8, 9}}"
      ]
     },
     "execution_count": 321,
     "metadata": {},
     "output_type": "execute_result"
    }
   ],
   "source": [
    "d6"
   ]
  },
  {
   "cell_type": "code",
   "execution_count": 325,
   "id": "79d248f9",
   "metadata": {},
   "outputs": [
    {
     "data": {
      "text/plain": [
       "set"
      ]
     },
     "execution_count": 325,
     "metadata": {},
     "output_type": "execute_result"
    }
   ],
   "source": [
    "type(d6['key3'])"
   ]
  },
  {
   "cell_type": "code",
   "execution_count": 326,
   "id": "aa405576",
   "metadata": {},
   "outputs": [
    {
     "data": {
      "text/plain": [
       "list"
      ]
     },
     "execution_count": 326,
     "metadata": {},
     "output_type": "execute_result"
    }
   ],
   "source": [
    "type(d6['key2'])"
   ]
  },
  {
   "cell_type": "code",
   "execution_count": 327,
   "id": "149333d6",
   "metadata": {},
   "outputs": [
    {
     "data": {
      "text/plain": [
       "tuple"
      ]
     },
     "execution_count": 327,
     "metadata": {},
     "output_type": "execute_result"
    }
   ],
   "source": [
    "type(d6['key1'])"
   ]
  },
  {
   "cell_type": "code",
   "execution_count": 330,
   "id": "64286171",
   "metadata": {},
   "outputs": [
    {
     "data": {
      "text/plain": [
       "5"
      ]
     },
     "execution_count": 330,
     "metadata": {},
     "output_type": "execute_result"
    }
   ],
   "source": [
    "d6['key2'][4]"
   ]
  },
  {
   "cell_type": "markdown",
   "id": "086f33df",
   "metadata": {},
   "source": [
    "# want to access only key"
   ]
  },
  {
   "cell_type": "code",
   "execution_count": 332,
   "id": "58ccfb6b",
   "metadata": {},
   "outputs": [
    {
     "data": {
      "text/plain": [
       "dict_keys(['Name', 'PhoneNo', 'Emailid', 'key1', 'key2', 'key3'])"
      ]
     },
     "execution_count": 332,
     "metadata": {},
     "output_type": "execute_result"
    }
   ],
   "source": [
    "d6.keys()"
   ]
  },
  {
   "cell_type": "markdown",
   "id": "04902d61",
   "metadata": {},
   "source": [
    "# only access the values"
   ]
  },
  {
   "cell_type": "code",
   "execution_count": 334,
   "id": "b3d922af",
   "metadata": {},
   "outputs": [
    {
     "data": {
      "text/plain": [
       "dict_values(['Manish Gupta', '7838838843', 'Manishguptanalyst@gmail.com', (1, 2, 3, 4, 5, 6), [1, 2, 3, 4, 5, 6, 7, 8], {1, 2, 3, 4, 5, 6, 7, 8, 9}])"
      ]
     },
     "execution_count": 334,
     "metadata": {},
     "output_type": "execute_result"
    }
   ],
   "source": [
    "d6.values()"
   ]
  },
  {
   "cell_type": "code",
   "execution_count": 336,
   "id": "215cd91f",
   "metadata": {},
   "outputs": [
    {
     "data": {
      "text/plain": [
       "dict_items([('Name', 'Manish Gupta'), ('PhoneNo', '7838838843'), ('Emailid', 'Manishguptanalyst@gmail.com'), ('key1', (1, 2, 3, 4, 5, 6)), ('key2', [1, 2, 3, 4, 5, 6, 7, 8]), ('key3', {1, 2, 3, 4, 5, 6, 7, 8, 9})])"
      ]
     },
     "execution_count": 336,
     "metadata": {},
     "output_type": "execute_result"
    }
   ],
   "source": [
    "d6.items()"
   ]
  },
  {
   "cell_type": "code",
   "execution_count": 337,
   "id": "d2bf55c2",
   "metadata": {},
   "outputs": [
    {
     "data": {
      "text/plain": [
       "dict_items"
      ]
     },
     "execution_count": 337,
     "metadata": {},
     "output_type": "execute_result"
    }
   ],
   "source": [
    "type(d6.items())"
   ]
  },
  {
   "cell_type": "code",
   "execution_count": 338,
   "id": "18c4f12c",
   "metadata": {},
   "outputs": [
    {
     "data": {
      "text/plain": [
       "{'key1': 'mlrt', 'key2': [2, 3, 4, 5, 6, 7, 8]}"
      ]
     },
     "execution_count": 338,
     "metadata": {},
     "output_type": "execute_result"
    }
   ],
   "source": [
    "d={'key1':'mlrt','key2':[2,3,4,5,6,7,8]}\n",
    "d"
   ]
  },
  {
   "cell_type": "code",
   "execution_count": 339,
   "id": "a1f8d224",
   "metadata": {},
   "outputs": [],
   "source": [
    "d['key3']=\"Java\""
   ]
  },
  {
   "cell_type": "code",
   "execution_count": 340,
   "id": "bbc90d0b",
   "metadata": {},
   "outputs": [
    {
     "data": {
      "text/plain": [
       "{'key1': 'mlrt', 'key2': [2, 3, 4, 5, 6, 7, 8], 'key3': 'Java'}"
      ]
     },
     "execution_count": 340,
     "metadata": {},
     "output_type": "execute_result"
    }
   ],
   "source": [
    "d"
   ]
  },
  {
   "cell_type": "code",
   "execution_count": 341,
   "id": "ee1c9c84",
   "metadata": {},
   "outputs": [],
   "source": [
    "d['key4']='python'"
   ]
  },
  {
   "cell_type": "code",
   "execution_count": 342,
   "id": "175e5d88",
   "metadata": {},
   "outputs": [
    {
     "data": {
      "text/plain": [
       "{'key1': 'mlrt',\n",
       " 'key2': [2, 3, 4, 5, 6, 7, 8],\n",
       " 'key3': 'Java',\n",
       " 'key4': 'python'}"
      ]
     },
     "execution_count": 342,
     "metadata": {},
     "output_type": "execute_result"
    }
   ],
   "source": [
    "d"
   ]
  },
  {
   "cell_type": "code",
   "execution_count": 343,
   "id": "e3ad3296",
   "metadata": {},
   "outputs": [],
   "source": [
    "d[5]=[2,3,4,5,6,7,8,9]"
   ]
  },
  {
   "cell_type": "code",
   "execution_count": 344,
   "id": "75a3fdb8",
   "metadata": {},
   "outputs": [
    {
     "data": {
      "text/plain": [
       "{'key1': 'mlrt',\n",
       " 'key2': [2, 3, 4, 5, 6, 7, 8],\n",
       " 'key3': 'Java',\n",
       " 'key4': 'python',\n",
       " 5: [2, 3, 4, 5, 6, 7, 8, 9]}"
      ]
     },
     "execution_count": 344,
     "metadata": {},
     "output_type": "execute_result"
    }
   ],
   "source": [
    "d"
   ]
  },
  {
   "cell_type": "code",
   "execution_count": 345,
   "id": "3f296dfa",
   "metadata": {},
   "outputs": [],
   "source": [
    "d[6]=\"11,22,34,44,55,66\""
   ]
  },
  {
   "cell_type": "code",
   "execution_count": 346,
   "id": "8b8121fa",
   "metadata": {},
   "outputs": [
    {
     "data": {
      "text/plain": [
       "{'key1': 'mlrt',\n",
       " 'key2': [2, 3, 4, 5, 6, 7, 8],\n",
       " 'key3': 'Java',\n",
       " 'key4': 'python',\n",
       " 5: [2, 3, 4, 5, 6, 7, 8, 9],\n",
       " 6: '11,22,34,44,55,66'}"
      ]
     },
     "execution_count": 346,
     "metadata": {},
     "output_type": "execute_result"
    }
   ],
   "source": [
    "d"
   ]
  },
  {
   "cell_type": "code",
   "execution_count": 347,
   "id": "ed6f0bb9",
   "metadata": {},
   "outputs": [],
   "source": [
    "d['key1']='python'"
   ]
  },
  {
   "cell_type": "code",
   "execution_count": 348,
   "id": "c74730b0",
   "metadata": {},
   "outputs": [
    {
     "data": {
      "text/plain": [
       "{'key1': 'python',\n",
       " 'key2': [2, 3, 4, 5, 6, 7, 8],\n",
       " 'key3': 'Java',\n",
       " 'key4': 'python',\n",
       " 5: [2, 3, 4, 5, 6, 7, 8, 9],\n",
       " 6: '11,22,34,44,55,66'}"
      ]
     },
     "execution_count": 348,
     "metadata": {},
     "output_type": "execute_result"
    }
   ],
   "source": [
    "d"
   ]
  },
  {
   "cell_type": "code",
   "execution_count": 350,
   "id": "69a9dd3d",
   "metadata": {},
   "outputs": [],
   "source": [
    "d={'key1':'abc','key2':'xyz','key1':'ghi'}"
   ]
  },
  {
   "cell_type": "code",
   "execution_count": 351,
   "id": "d05f0007",
   "metadata": {},
   "outputs": [
    {
     "data": {
      "text/plain": [
       "'ghi'"
      ]
     },
     "execution_count": 351,
     "metadata": {},
     "output_type": "execute_result"
    }
   ],
   "source": [
    "d['key1']"
   ]
  }
 ],
 "metadata": {
  "kernelspec": {
   "display_name": "Python 3 (ipykernel)",
   "language": "python",
   "name": "python3"
  },
  "language_info": {
   "codemirror_mode": {
    "name": "ipython",
    "version": 3
   },
   "file_extension": ".py",
   "mimetype": "text/x-python",
   "name": "python",
   "nbconvert_exporter": "python",
   "pygments_lexer": "ipython3",
   "version": "3.9.13"
  }
 },
 "nbformat": 4,
 "nbformat_minor": 5
}
